{
 "cells": [
  {
   "cell_type": "markdown",
   "id": "b2f59e66-0a32-485a-ad7e-00aa24c91772",
   "metadata": {},
   "source": [
    "## ETF 리스트 추출 wtih fd"
   ]
  },
  {
   "cell_type": "code",
   "execution_count": 4,
   "id": "8d37e1af-c391-43ef-8298-9a7e2a49d01f",
   "metadata": {},
   "outputs": [],
   "source": [
    "import financedatabase as fd"
   ]
  },
  {
   "cell_type": "code",
   "execution_count": 5,
   "id": "43538713-42af-476b-8c65-a51497c7d5d6",
   "metadata": {},
   "outputs": [],
   "source": [
    "etfs = fd.ETFs()\n",
    "etf_list = list(etfs.select().index)"
   ]
  },
  {
   "cell_type": "markdown",
   "id": "fbc82b0e-96aa-4799-baed-82d39d68d7f9",
   "metadata": {},
   "source": [
    "## ETF 데이터베이스 확인 (Yahoo)"
   ]
  },
  {
   "cell_type": "code",
   "execution_count": 6,
   "id": "3b51fe4f-4532-46de-bbaf-8c59bcb6f258",
   "metadata": {},
   "outputs": [],
   "source": [
    "from yahoofinancials import YahooFinancials"
   ]
  },
  {
   "cell_type": "code",
   "execution_count": null,
   "id": "78ecc376-86a9-44a5-aae6-26caa61894ee",
   "metadata": {},
   "outputs": [],
   "source": [
    "yahoo_financials = YahooFinancials(etf_list)\n",
    "etfs_prices = yahoo_financials.get_historical_price_data('2023-12-1', '2023-12-27', 'daily')"
   ]
  },
  {
   "cell_type": "code",
   "execution_count": null,
   "id": "760dd8d9-cd0b-455f-82fd-979ce3bcd6fa",
   "metadata": {},
   "outputs": [],
   "source": [
    "etfs_prices.index"
   ]
  },
  {
   "cell_type": "code",
   "execution_count": null,
   "id": "1979a17b-2c89-4527-a191-3d82c2229e59",
   "metadata": {},
   "outputs": [],
   "source": [
    "file_path = 'etf.list.csv'\n",
    "etfs_prices.index.to_frame(index=False).to_csv(file_path, header=False)"
   ]
  },
  {
   "cell_type": "markdown",
   "id": "3d2fb738-d6af-4865-8abd-51f396e6d91a",
   "metadata": {},
   "source": [
    "---"
   ]
  }
 ],
 "metadata": {
  "kernelspec": {
   "display_name": "Python 3 (ipykernel)",
   "language": "python",
   "name": "python3"
  },
  "language_info": {
   "codemirror_mode": {
    "name": "ipython",
    "version": 3
   },
   "file_extension": ".py",
   "mimetype": "text/x-python",
   "name": "python",
   "nbconvert_exporter": "python",
   "pygments_lexer": "ipython3",
   "version": "3.10.12"
  }
 },
 "nbformat": 4,
 "nbformat_minor": 5
}
