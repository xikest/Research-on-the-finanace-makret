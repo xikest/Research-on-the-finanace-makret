{
 "cells": [
  {
   "cell_type": "code",
   "execution_count": 11,
   "id": "618f5ec4-6cc2-415e-a797-dde1c218593d",
   "metadata": {},
   "outputs": [],
   "source": [
    "from pathlib import Path\n",
    "from datetime import datetime\n",
    "import json\n",
    "from io import BytesIO\n",
    "from zipfile import ZipFile, BadZipFile\n",
    "from tqdm import tqdm\n",
    "import requests\n",
    "import time\n",
    "\n",
    "import pandas_datareader.data as web\n",
    "import pandas as pd\n",
    "\n",
    "from pprint import pprint\n",
    "\n",
    "import seaborn as sns\n",
    "import matplotlib.pyplot as plt\n",
    "import matplotlib.ticker as mticker\n",
    "\n",
    "import warnings"
   ]
  },
  {
   "cell_type": "code",
   "execution_count": 12,
   "id": "b627e121-e247-4285-bb51-550740ce8bb2",
   "metadata": {},
   "outputs": [],
   "source": [
    "warnings.filterwarnings('ignore')\n",
    "sns.set_style('whitegrid')"
   ]
  },
  {
   "cell_type": "markdown",
   "id": "e51787bc-6e2f-404a-ade9-a859e3dfacd5",
   "metadata": {},
   "source": [
    "## SEC Edgar Data"
   ]
  },
  {
   "cell_type": "markdown",
   "id": "08e27c62-150c-41b1-aea4-f5f001b8931f",
   "metadata": {},
   "source": [
    "- EDGAR acess policy: https://www.sec.gov/os/accessing-edgar-data\n",
    "- EDGAR FSN data: https://www.sec.gov/about/divisions-offices/division-economic-risk-analysis/data/financial-statement-and-notes-data-set\n",
    "- EDGAR FS data: https://www.sec.gov/dera/data/financial-statement-data-sets"
   ]
  },
  {
   "cell_type": "code",
   "execution_count": 26,
   "id": "3b313192-9e5f-44ad-877b-e5b5eb635723",
   "metadata": {},
   "outputs": [],
   "source": [
    "def download_FSN_from_sec(url, path):\n",
    "\n",
    "        # Declare user agent in request headers\n",
    "    headers = {\n",
    "        'User-Agent': 'xikest12@gmail.com',\n",
    "        'Accept-Encoding': 'gzip, deflate',\n",
    "        'Host': 'www.sec.gov'\n",
    "    }\n",
    "    # Download and save file\n",
    "    try:\n",
    "        response = requests.get(url, headers=headers)\n",
    "        if response.status_code == 200:\n",
    "            with open('downloaded_file.zip', 'wb') as f:\n",
    "                f.write(response.content)\n",
    "                \n",
    "            # Decompress and save\n",
    "            with ZipFile(BytesIO(response.content)) as zip_file:\n",
    "                for file in zip_file.namelist():\n",
    "                    local_file = path / file\n",
    "                    if local_file.exists():\n",
    "                        continue\n",
    "                    with local_file.open('wb') as output:\n",
    "                        for line in zip_file.open(file).readlines():\n",
    "                            output.write(line)\n",
    "\n",
    "            # Sleep to comply with request rate limit\n",
    "            time.sleep(0.1)  # Adjust as needed\n",
    "        else:\n",
    "            print(f\"Failed to download file. Status code: {response.status_code}\")\n",
    "            print(\"Response content:\", response.content)\n",
    "    except BadZipFile:\n",
    "        print(f'\\nBad zip file: {url}\\n')\n",
    "        pass\n",
    "\n",
    "\n",
    "def download_SEC_reports(data_path='data', start_date='2009', end_date='2020-11-30', freq='Q'):\n",
    "    SEC_URL = 'https://www.sec.gov/'\n",
    "    FSN_PATH = 'files/dera/data/financial-statement-and-notes-data-sets/'\n",
    "    periods = []\n",
    "        \n",
    "    if freq == 'Q':\n",
    "        periods = [(d.year, d.quarter) for d in pd.date_range(start_date, end_date, freq='Q')]\n",
    "    elif freq == 'M':\n",
    "        periods = [(d.year, d.month) for d in pd.date_range(start_date, end_date, freq='M')]\n",
    "    else:\n",
    "        raise ValueError(\"Invalid frequency. Please use 'Q' for quarters or 'M' for months.\")\n",
    "\n",
    "    for yr, time_period in tqdm(periods):\n",
    "        # Set (and create) directory\n",
    "        if freq == 'Q':\n",
    "            path = data_path / f'{yr}_{time_period}q' / 'source'\n",
    "            filing = f'{yr}q{time_period}_notes.zip'\n",
    "        elif freq == 'M':\n",
    "            path = data_path / f'{yr}_{time_period:02}' / 'source'\n",
    "            filing = f'{yr}_{time_period:02}_notes.zip'\n",
    "\n",
    "        if not path.exists():\n",
    "            path.mkdir(parents=True)\n",
    "        \n",
    "        url = SEC_URL + FSN_PATH + filing\n",
    "        # print(url)\n",
    "        download_FSN_from_sec(url, path)"
   ]
  },
  {
   "cell_type": "code",
   "execution_count": 27,
   "id": "ba53d304-2527-4d37-93e5-537db3626ac3",
   "metadata": {},
   "outputs": [],
   "source": [
    "STORAGE_PATH = \"E:\"\n",
    "data_path = 'edgar/fsn'\n",
    "data_path = STORAGE_PATH/Path(data_path)\n",
    "if not data_path.exists():\n",
    "    data_path.mkdir()"
   ]
  },
  {
   "cell_type": "code",
   "execution_count": null,
   "id": "eb84bcb1-58ce-44a4-861e-bd39b8088b80",
   "metadata": {},
   "outputs": [
    {
     "name": "stderr",
     "output_type": "stream",
     "text": [
      " 23%|██████████████████████████████▍                                                                                                   | 11/47 [03:16<20:14, 33.73s/it]"
     ]
    }
   ],
   "source": [
    "# 분기별 데이터\n",
    "download_SEC_reports(data_path, '2009', '2020-11-30', freq='Q')"
   ]
  },
  {
   "cell_type": "code",
   "execution_count": null,
   "id": "8173868c-3811-44da-ab0f-9511375360c2",
   "metadata": {},
   "outputs": [
    {
     "name": "stderr",
     "output_type": "stream",
     "text": [
      "  0%|                                                                                                                                                                                                                                                                                       | 0/38 [00:00<?, ?it/s]"
     ]
    },
    {
     "name": "stdout",
     "output_type": "stream",
     "text": [
      "https://www.sec.gov/files/dera/data/financial-statement-and-notes-data-sets/2020_10_notes.zip\n"
     ]
    },
    {
     "name": "stderr",
     "output_type": "stream",
     "text": [
      "  3%|███████                                                                                                                                                                                                                                                                     | 1/38 [01:52<1:09:31, 112.75s/it]"
     ]
    },
    {
     "name": "stdout",
     "output_type": "stream",
     "text": [
      "https://www.sec.gov/files/dera/data/financial-statement-and-notes-data-sets/2020_11_notes.zip\n"
     ]
    },
    {
     "name": "stderr",
     "output_type": "stream",
     "text": [
      "  5%|██████████████                                                                                                                                                                                                                                                              | 2/38 [05:45<1:49:54, 183.18s/it]"
     ]
    },
    {
     "name": "stdout",
     "output_type": "stream",
     "text": [
      "https://www.sec.gov/files/dera/data/financial-statement-and-notes-data-sets/2020_12_notes.zip\n"
     ]
    },
    {
     "name": "stderr",
     "output_type": "stream",
     "text": [
      "  8%|█████████████████████▏                                                                                                                                                                                                                                                      | 3/38 [06:48<1:14:53, 128.39s/it]"
     ]
    },
    {
     "name": "stdout",
     "output_type": "stream",
     "text": [
      "https://www.sec.gov/files/dera/data/financial-statement-and-notes-data-sets/2021_01_notes.zip\n"
     ]
    },
    {
     "name": "stderr",
     "output_type": "stream",
     "text": [
      " 11%|████████████████████████████▌                                                                                                                                                                                                                                                  | 4/38 [07:20<51:13, 90.40s/it]"
     ]
    },
    {
     "name": "stdout",
     "output_type": "stream",
     "text": [
      "https://www.sec.gov/files/dera/data/financial-statement-and-notes-data-sets/2021_02_notes.zip\n"
     ]
    },
    {
     "name": "stderr",
     "output_type": "stream",
     "text": [
      " 13%|███████████████████████████████████▎                                                                                                                                                                                                                                        | 5/38 [11:57<1:26:41, 157.62s/it]"
     ]
    },
    {
     "name": "stdout",
     "output_type": "stream",
     "text": [
      "https://www.sec.gov/files/dera/data/financial-statement-and-notes-data-sets/2021_03_notes.zip\n"
     ]
    },
    {
     "name": "stderr",
     "output_type": "stream",
     "text": [
      " 16%|██████████████████████████████████████████▎                                                                                                                                                                                                                                 | 6/38 [16:53<1:49:13, 204.79s/it]"
     ]
    },
    {
     "name": "stdout",
     "output_type": "stream",
     "text": [
      "https://www.sec.gov/files/dera/data/financial-statement-and-notes-data-sets/2021_04_notes.zip\n"
     ]
    },
    {
     "name": "stderr",
     "output_type": "stream",
     "text": [
      " 18%|█████████████████████████████████████████████████▎                                                                                                                                                                                                                          | 7/38 [20:41<1:49:38, 212.21s/it]"
     ]
    },
    {
     "name": "stdout",
     "output_type": "stream",
     "text": [
      "https://www.sec.gov/files/dera/data/financial-statement-and-notes-data-sets/2021_05_notes.zip\n"
     ]
    }
   ],
   "source": [
    "# 월간 데이터\n",
    "download_SEC_reports(data_path, '2020-10-1', '2023-11-30', freq='M')"
   ]
  },
  {
   "cell_type": "code",
   "execution_count": null,
   "id": "e9b53ae4-bf62-4cc2-a6f5-36f48793fdc4",
   "metadata": {},
   "outputs": [],
   "source": [
    "from google.colab import files\n",
    "!zip -r /content/edgar/fsn.zip /content/edgar/fsn\n",
    "files.download('/content/edgar/fsn.zip')"
   ]
  },
  {
   "cell_type": "markdown",
   "id": "3637a79e-c685-4382-8cd2-4ff809cd3146",
   "metadata": {},
   "source": [
    "---"
   ]
  }
 ],
 "metadata": {
  "kernelspec": {
   "display_name": "Python 3 (ipykernel)",
   "language": "python",
   "name": "python3"
  },
  "language_info": {
   "codemirror_mode": {
    "name": "ipython",
    "version": 3
   },
   "file_extension": ".py",
   "mimetype": "text/x-python",
   "name": "python",
   "nbconvert_exporter": "python",
   "pygments_lexer": "ipython3",
   "version": "3.10.12"
  }
 },
 "nbformat": 4,
 "nbformat_minor": 5
}
