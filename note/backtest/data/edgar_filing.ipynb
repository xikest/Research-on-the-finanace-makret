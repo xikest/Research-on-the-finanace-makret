{
 "cells": [
  {
   "cell_type": "code",
   "execution_count": 1,
   "id": "c15a4783-ea07-4825-b918-b04283deb02c",
   "metadata": {},
   "outputs": [],
   "source": [
    "import warnings\n",
    "warnings.filterwarnings('ignore')"
   ]
  },
  {
   "cell_type": "code",
   "execution_count": 21,
   "id": "618f5ec4-6cc2-415e-a797-dde1c218593d",
   "metadata": {},
   "outputs": [],
   "source": [
    "from pathlib import Path\n",
    "from datetime import datetime\n",
    "import json\n",
    "from io import BytesIO\n",
    "from zipfile import ZipFile, BadZipFile\n",
    "from tqdm import tqdm\n",
    "import requests\n",
    "import time\n",
    "\n",
    "import pandas_datareader.data as web\n",
    "import pandas as pd\n",
    "\n",
    "from pprint import pprint\n",
    "\n",
    "import seaborn as sns\n",
    "import matplotlib.pyplot as plt\n",
    "import matplotlib.ticker as mticker"
   ]
  },
  {
   "cell_type": "code",
   "execution_count": 4,
   "id": "b627e121-e247-4285-bb51-550740ce8bb2",
   "metadata": {},
   "outputs": [],
   "source": [
    "sns.set_style('whitegrid')"
   ]
  },
  {
   "cell_type": "code",
   "execution_count": 5,
   "id": "9dd91d20-6e4f-4467-a50a-241acd4692a9",
   "metadata": {},
   "outputs": [],
   "source": [
    "data_path = Path(\"data\")\n",
    "if not data_path.exists():\n",
    "    data_path.mkdir()"
   ]
  },
  {
   "cell_type": "markdown",
   "id": "e51787bc-6e2f-404a-ade9-a859e3dfacd5",
   "metadata": {},
   "source": [
    "## SEC Edgar Data"
   ]
  },
  {
   "cell_type": "code",
   "execution_count": 6,
   "id": "3e66e8f5-bead-4d5f-84af-2c680ebc24b9",
   "metadata": {},
   "outputs": [],
   "source": [
    "SEC_URL = 'https://www.sec.gov/'\n",
    "FSN_PATH = 'files/dera/data/financial-statement-and-notes-data-sets/'"
   ]
  },
  {
   "cell_type": "code",
   "execution_count": 11,
   "id": "753cb2cd-fb27-4d65-a245-6daa23141ef5",
   "metadata": {},
   "outputs": [
    {
     "data": {
      "text/plain": [
       "[(2014, 1),\n",
       " (2014, 2),\n",
       " (2014, 3),\n",
       " (2014, 4),\n",
       " (2015, 1),\n",
       " (2015, 2),\n",
       " (2015, 3),\n",
       " (2015, 4),\n",
       " (2016, 1),\n",
       " (2016, 2),\n",
       " (2016, 3),\n",
       " (2016, 4),\n",
       " (2017, 1),\n",
       " (2017, 2),\n",
       " (2017, 3),\n",
       " (2017, 4),\n",
       " (2018, 1),\n",
       " (2018, 2),\n",
       " (2018, 3),\n",
       " (2018, 4),\n",
       " (2019, 1),\n",
       " (2019, 2),\n",
       " (2019, 3),\n",
       " (2019, 4),\n",
       " (2020, 1),\n",
       " (2020, 2),\n",
       " (2020, 3)]"
      ]
     },
     "execution_count": 11,
     "metadata": {},
     "output_type": "execute_result"
    }
   ],
   "source": [
    "filing_periods =[(d.year, d.quarter) for d in pd.date_range(\"2014\", \"2020-9-30\",freq='Q')]\n",
    "filing_periods"
   ]
  },
  {
   "cell_type": "markdown",
   "id": "08e27c62-150c-41b1-aea4-f5f001b8931f",
   "metadata": {},
   "source": [
    "- EDGAR acess policy: https://www.sec.gov/os/accessing-edgar-data"
   ]
  },
  {
   "cell_type": "code",
   "execution_count": 22,
   "id": "f826b47f-b1aa-4b78-ae28-c79d223bfd2b",
   "metadata": {},
   "outputs": [
    {
     "name": "stderr",
     "output_type": "stream",
     "text": [
      " 37%|████████████████████████████████████████████████▏                                                                                 | 10/27 [13:12<22:27, 79.29s/it]\n"
     ]
    },
    {
     "ename": "OSError",
     "evalue": "[Errno 28] No space left on device",
     "output_type": "error",
     "traceback": [
      "\u001b[1;31m---------------------------------------------------------------------------\u001b[0m",
      "\u001b[1;31mOSError\u001b[0m                                   Traceback (most recent call last)",
      "Cell \u001b[1;32mIn[22], line 33\u001b[0m\n\u001b[0;32m     32\u001b[0m             \u001b[38;5;28;01mfor\u001b[39;00m line \u001b[38;5;129;01min\u001b[39;00m zip_file\u001b[38;5;241m.\u001b[39mopen(file)\u001b[38;5;241m.\u001b[39mreadlines():\n\u001b[1;32m---> 33\u001b[0m                 \u001b[43moutput\u001b[49m\u001b[38;5;241;43m.\u001b[39;49m\u001b[43mwrite\u001b[49m\u001b[43m(\u001b[49m\u001b[43mline\u001b[49m\u001b[43m)\u001b[49m\n\u001b[0;32m     35\u001b[0m \u001b[38;5;66;03m# Sleep to comply with request rate limit\u001b[39;00m\n",
      "\u001b[1;31mOSError\u001b[0m: [Errno 28] No space left on device",
      "\nDuring handling of the above exception, another exception occurred:\n",
      "\u001b[1;31mOSError\u001b[0m                                   Traceback (most recent call last)",
      "Cell \u001b[1;32mIn[22], line 31\u001b[0m\n\u001b[0;32m     29\u001b[0m \u001b[38;5;28;01mif\u001b[39;00m local_file\u001b[38;5;241m.\u001b[39mexists():\n\u001b[0;32m     30\u001b[0m     \u001b[38;5;28;01mcontinue\u001b[39;00m\n\u001b[1;32m---> 31\u001b[0m \u001b[38;5;28;01mwith\u001b[39;00m local_file\u001b[38;5;241m.\u001b[39mopen(\u001b[38;5;124m'\u001b[39m\u001b[38;5;124mwb\u001b[39m\u001b[38;5;124m'\u001b[39m) \u001b[38;5;28;01mas\u001b[39;00m output:\n\u001b[0;32m     32\u001b[0m     \u001b[38;5;28;01mfor\u001b[39;00m line \u001b[38;5;129;01min\u001b[39;00m zip_file\u001b[38;5;241m.\u001b[39mopen(file)\u001b[38;5;241m.\u001b[39mreadlines():\n\u001b[0;32m     33\u001b[0m         output\u001b[38;5;241m.\u001b[39mwrite(line)\n",
      "\u001b[1;31mOSError\u001b[0m: [Errno 28] No space left on device"
     ]
    }
   ],
   "source": [
    "for yr, qtr in tqdm(filing_periods):\n",
    "    # Set (and create) directory\n",
    "    path = data_path / f'{yr}_{qtr}' / 'source'\n",
    "    if not path.exists():\n",
    "        path.mkdir(parents=True)\n",
    "    \n",
    "    # Define url and get file\n",
    "    filing = f'{yr}q{qtr}_notes.zip'\n",
    "    url = SEC_URL + FSN_PATH + filing\n",
    "    \n",
    "    # Declare user agent in request headers\n",
    "    headers = {\n",
    "        'User-Agent': 'xikest12@gmail.com',\n",
    "        'Accept-Encoding': 'gzip, deflate',\n",
    "        'Host': 'www.sec.gov'\n",
    "    }\n",
    "\n",
    "    # Download and save file\n",
    "    try:\n",
    "        response = requests.get(url, headers=headers)\n",
    "        if response.status_code == 200:\n",
    "            with open('downloaded_file.zip', 'wb') as f:\n",
    "                f.write(response.content)\n",
    "                \n",
    "            # Decompress and save\n",
    "            with ZipFile(BytesIO(response.content)) as zip_file:\n",
    "                for file in zip_file.namelist():\n",
    "                    local_file = path / file\n",
    "                    if local_file.exists():\n",
    "                        continue\n",
    "                    with local_file.open('wb') as output:\n",
    "                        for line in zip_file.open(file).readlines():\n",
    "                            output.write(line)\n",
    "\n",
    "            # Sleep to comply with request rate limit\n",
    "            time.sleep(0.1)  # Adjust as needed\n",
    "        else:\n",
    "            print(f\"Failed to download file. Status code: {response.status_code}\")\n",
    "            print(\"Response content:\", response.content)\n",
    "    except BadZipFile:\n",
    "        print(f'\\nBad zip file: {yr} {qtr}\\n')\n",
    "        continue"
   ]
  },
  {
   "cell_type": "code",
   "execution_count": null,
   "id": "3b313192-9e5f-44ad-877b-e5b5eb635723",
   "metadata": {},
   "outputs": [],
   "source": [
    "def download_FSN_from_sec(url, save_path):\n",
    "\n",
    "        # Declare user agent in request headers\n",
    "    headers = {\n",
    "        'User-Agent': 'xikest12@gmail.com',\n",
    "        'Accept-Encoding': 'gzip, deflate',\n",
    "        'Host': 'www.sec.gov'\n",
    "    }\n",
    "    # Download and save file\n",
    "    try:\n",
    "        response = requests.get(url, headers=headers)\n",
    "        if response.status_code == 200:\n",
    "            with open('downloaded_file.zip', 'wb') as f:\n",
    "                f.write(response.content)\n",
    "                \n",
    "            # Decompress and save\n",
    "            with ZipFile(BytesIO(response.content)) as zip_file:\n",
    "                for file in zip_file.namelist():\n",
    "                    local_file = path / file\n",
    "                    if local_file.exists():\n",
    "                        continue\n",
    "                    with local_file.open('wb') as output:\n",
    "                        for line in zip_file.open(file).readlines():\n",
    "                            output.write(line)\n",
    "\n",
    "            # Sleep to comply with request rate limit\n",
    "            time.sleep(0.1)  # Adjust as needed\n",
    "        else:\n",
    "            print(f\"Failed to download file. Status code: {response.status_code}\")\n",
    "            print(\"Response content:\", response.content)\n",
    "    except BadZipFile:\n",
    "        print(f'\\nBad zip file: {yr} {qtr}\\n')\n",
    "        continue"
   ]
  },
  {
   "cell_type": "code",
   "execution_count": null,
   "id": "1b7b88b1-5c9c-45b8-b315-b6969cfef343",
   "metadata": {},
   "outputs": [],
   "source": [
    "filing_periods_2020 =[(d.year, d.quarter) for d in pd.date_range(\"2009\", \"2020-11-30\",freq='Q')]\n",
    "filing_periods_2020\n",
    "\n",
    "for yr, qtr in tqdm(filing_periods):\n",
    "    # Set (and create) directory\n",
    "    path = data_path / f'{yr}_{qtr}q' / 'source'\n",
    "    if not path.exists():\n",
    "        path.mkdir(parents=True)\n",
    "    \n",
    "    # Define url and get file\n",
    "    filing = f'{yr}q{qtr}_notes.zip'\n",
    "    url = SEC_URL + FSN_PATH + filing\n",
    "    "
   ]
  },
  {
   "cell_type": "code",
   "execution_count": null,
   "id": "c6b882af-ba0f-4bac-80ca-7aa47ce410e0",
   "metadata": {},
   "outputs": [],
   "source": [
    "filing_periods =[(d.year, d.month) for d in pd.date_range(\"2020-10-1\", \"2023-11-30\",freq='M')]\n",
    "filing_periods\n",
    "\n",
    "for yr, month in tqdm(filing_periods):\n",
    "    # Set (and create) directory\n",
    "    path = data_path / f'{yr}_{month}' / 'source'\n",
    "    if not path.exists():\n",
    "        path.mkdir(parents=True)\n",
    "    \n",
    "    # Define url and get file\n",
    "    filing = f'{yr}_{month}_notes.zip'\n",
    "    url = SEC_URL + FSN_PATH + filing\n",
    "    "
   ]
  }
 ],
 "metadata": {
  "kernelspec": {
   "display_name": "Python 3 (ipykernel)",
   "language": "python",
   "name": "python3"
  },
  "language_info": {
   "codemirror_mode": {
    "name": "ipython",
    "version": 3
   },
   "file_extension": ".py",
   "mimetype": "text/x-python",
   "name": "python",
   "nbconvert_exporter": "python",
   "pygments_lexer": "ipython3",
   "version": "3.10.12"
  }
 },
 "nbformat": 4,
 "nbformat_minor": 5
}
