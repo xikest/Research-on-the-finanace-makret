{
 "cells": [
  {
   "cell_type": "markdown",
   "id": "4a92942e-6fa2-4174-a5bc-f605acbadf5e",
   "metadata": {},
   "source": [
    "## 패키지 설치"
   ]
  },
  {
   "cell_type": "code",
   "execution_count": null,
   "id": "3ceaf892-0c20-4776-a2a2-c70950b42a62",
   "metadata": {},
   "outputs": [],
   "source": [
    "!pip install -U financedatabase \n",
    "!pip install -U yahoofinancials"
   ]
  },
  {
   "cell_type": "markdown",
   "id": "e021f97b-3ff2-4bd2-909f-7c6fd0e1f06b",
   "metadata": {},
   "source": [
    "## env 설정"
   ]
  },
  {
   "cell_type": "code",
   "execution_count": 4,
   "id": "8d37e1af-c391-43ef-8298-9a7e2a49d01f",
   "metadata": {},
   "outputs": [],
   "source": [
    "import financedatabase as fd\n",
    "from yahoofinancials import YahooFinancials\n",
    "from datetime import datetime, timedelta\n",
    "import pandas as pd\n",
    "from tqdm import tqdm"
   ]
  },
  {
   "cell_type": "markdown",
   "id": "b2f59e66-0a32-485a-ad7e-00aa24c91772",
   "metadata": {},
   "source": [
    "## ETF 리스트 추출 wtih fd"
   ]
  },
  {
   "cell_type": "code",
   "execution_count": 5,
   "id": "43538713-42af-476b-8c65-a51497c7d5d6",
   "metadata": {},
   "outputs": [],
   "source": [
    "etfs = fd.ETFs()\n",
    "etf_list = list(etfs.select().index)"
   ]
  },
  {
   "cell_type": "markdown",
   "id": "fbc82b0e-96aa-4799-baed-82d39d68d7f9",
   "metadata": {},
   "source": [
    "## ETF 데이터베이스 확인 (Yahoo)"
   ]
  },
  {
   "cell_type": "code",
   "execution_count": 31,
   "id": "58739b04-368a-4128-91be-ae9112d226b8",
   "metadata": {},
   "outputs": [],
   "source": [
    "today_date = datetime.today().strftime('%Y-%m-%d')\n",
    "one_week_ago = (datetime.today() - timedelta(days=7)).strftime('%Y-%m-%d')"
   ]
  },
  {
   "cell_type": "code",
   "execution_count": 32,
   "id": "78ecc376-86a9-44a5-aae6-26caa61894ee",
   "metadata": {},
   "outputs": [],
   "source": [
    "etfs = []\n",
    "for etf in tqdm(etf_list):\n",
    "  try: \n",
    "    yahoo_financials = YahooFinancials(etf)\n",
    "    etfs_prices = yahoo_financials.get_historical_price_data(one_week_ago, today_date, 'daily')\n",
    "    etfs.append(etfs_prices.keys())\n",
    "  except: \n",
    "    print(etf)\n",
    "    pass"
   ]
  },
  {
   "cell_type": "markdown",
   "id": "7e0f886e-dd54-43e6-8296-bca05b798000",
   "metadata": {},
   "source": [
    "## ETF 리스트 저장"
   ]
  },
  {
   "cell_type": "code",
   "execution_count": 45,
   "id": "1979a17b-2c89-4527-a191-3d82c2229e59",
   "metadata": {},
   "outputs": [],
   "source": [
    "etfs = ','.join(etfs_prices.keys())\n",
    "file_path = 'etf_list.txt'\n",
    "with open(file_path, 'w') as file:\n",
    "    file.write(etfs)"
   ]
  },
  {
   "cell_type": "code",
   "execution_count": null,
   "id": "e022498f-6458-4173-8e68-19a8c4c601b8",
   "metadata": {},
   "outputs": [],
   "source": [
    "from google.colab import files\n",
    "files.download(file_path)"
   ]
  },
  {
   "cell_type": "markdown",
   "id": "3d2fb738-d6af-4865-8abd-51f396e6d91a",
   "metadata": {},
   "source": [
    "---"
   ]
  }
 ],
 "metadata": {
  "kernelspec": {
   "display_name": "Python 3 (ipykernel)",
   "language": "python",
   "name": "python3"
  },
  "language_info": {
   "codemirror_mode": {
    "name": "ipython",
    "version": 3
   },
   "file_extension": ".py",
   "mimetype": "text/x-python",
   "name": "python",
   "nbconvert_exporter": "python",
   "pygments_lexer": "ipython3",
   "version": "3.10.12"
  }
 },
 "nbformat": 4,
 "nbformat_minor": 5
}
