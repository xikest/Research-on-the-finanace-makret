{
 "cells": [
  {
   "cell_type": "markdown",
   "id": "4a92942e-6fa2-4174-a5bc-f605acbadf5e",
   "metadata": {},
   "source": [
    "## 패키지 설치"
   ]
  },
  {
   "cell_type": "code",
   "execution_count": null,
   "id": "3ceaf892-0c20-4776-a2a2-c70950b42a62",
   "metadata": {},
   "outputs": [],
   "source": [
    "!pip install -U financedatabase \n",
    "!pip install -U yahoofinancials"
   ]
  },
  {
   "cell_type": "markdown",
   "id": "b2f59e66-0a32-485a-ad7e-00aa24c91772",
   "metadata": {},
   "source": [
    "## ETF 리스트 추출 wtih fd"
   ]
  },
  {
   "cell_type": "code",
   "execution_count": 4,
   "id": "8d37e1af-c391-43ef-8298-9a7e2a49d01f",
   "metadata": {},
   "outputs": [],
   "source": [
    "import financedatabase as fd"
   ]
  },
  {
   "cell_type": "code",
   "execution_count": 5,
   "id": "43538713-42af-476b-8c65-a51497c7d5d6",
   "metadata": {},
   "outputs": [],
   "source": [
    "etfs = fd.ETFs()\n",
    "etf_list = list(etfs.select().index)"
   ]
  },
  {
   "cell_type": "code",
   "execution_count": 17,
   "id": "907c681b-0952-4317-bac7-e15918ece08b",
   "metadata": {},
   "outputs": [
    {
     "data": {
      "text/plain": [
       "['WDSSF', 'ZKBHF']"
      ]
     },
     "execution_count": 17,
     "metadata": {},
     "output_type": "execute_result"
    }
   ],
   "source": [
    "etf_list[-2:]"
   ]
  },
  {
   "cell_type": "markdown",
   "id": "fbc82b0e-96aa-4799-baed-82d39d68d7f9",
   "metadata": {},
   "source": [
    "## ETF 데이터베이스 확인 (Yahoo)"
   ]
  },
  {
   "cell_type": "code",
   "execution_count": 37,
   "id": "3b51fe4f-4532-46de-bbaf-8c59bcb6f258",
   "metadata": {},
   "outputs": [],
   "source": [
    "from yahoofinancials import YahooFinancials\n",
    "from datetime import datetime, timedelta\n",
    "import pandas as pd"
   ]
  },
  {
   "cell_type": "code",
   "execution_count": 31,
   "id": "58739b04-368a-4128-91be-ae9112d226b8",
   "metadata": {},
   "outputs": [],
   "source": [
    "today_date = datetime.today().strftime('%Y-%m-%d')\n",
    "one_week_ago = (datetime.today() - timedelta(days=7)).strftime('%Y-%m-%d')"
   ]
  },
  {
   "cell_type": "code",
   "execution_count": 32,
   "id": "78ecc376-86a9-44a5-aae6-26caa61894ee",
   "metadata": {},
   "outputs": [],
   "source": [
    "yahoo_financials = YahooFinancials(etf_list)\n",
    "etfs_prices = yahoo_financials.get_historical_price_data(one_week_ago, today_date, 'daily')"
   ]
  },
  {
   "cell_type": "markdown",
   "id": "7e0f886e-dd54-43e6-8296-bca05b798000",
   "metadata": {},
   "source": [
    "## ETF 리스트 저장"
   ]
  },
  {
   "cell_type": "code",
   "execution_count": 45,
   "id": "1979a17b-2c89-4527-a191-3d82c2229e59",
   "metadata": {},
   "outputs": [],
   "source": [
    "etfs = ','.join(etfs_prices.keys())\n",
    "file_path = 'etf_list.txt'\n",
    "with open(file_path, 'w') as file:\n",
    "    file.write(etfs)"
   ]
  },
  {
   "cell_type": "markdown",
   "id": "3d2fb738-d6af-4865-8abd-51f396e6d91a",
   "metadata": {},
   "source": [
    "---"
   ]
  }
 ],
 "metadata": {
  "kernelspec": {
   "display_name": "Python 3 (ipykernel)",
   "language": "python",
   "name": "python3"
  },
  "language_info": {
   "codemirror_mode": {
    "name": "ipython",
    "version": 3
   },
   "file_extension": ".py",
   "mimetype": "text/x-python",
   "name": "python",
   "nbconvert_exporter": "python",
   "pygments_lexer": "ipython3",
   "version": "3.10.12"
  }
 },
 "nbformat": 4,
 "nbformat_minor": 5
}
