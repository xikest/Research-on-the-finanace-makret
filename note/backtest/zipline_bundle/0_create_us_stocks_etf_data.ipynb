{
 "cells": [
  {
   "cell_type": "markdown",
   "id": "053bc9ed-448f-4596-b09f-37e7a3a76cbd",
   "metadata": {},
   "source": [
    "# 0_create_US_stocks_data"
   ]
  },
  {
   "cell_type": "markdown",
   "id": "4f7f1127-0d33-40d3-8ca1-88bbf10f3f0e",
   "metadata": {},
   "source": [
    "### source\n",
    "- etf list : etf db\n",
    "- stocks list: fdr\n",
    "- prices: yahoo finanace"
   ]
  },
  {
   "cell_type": "markdown",
   "id": "e54ad3a3-9165-4372-8e0f-eb9382653459",
   "metadata": {},
   "source": [
    "## Imports & Settings"
   ]
  },
  {
   "cell_type": "code",
   "execution_count": 52,
   "id": "d1d83ac2-9ae4-47ac-b4ca-bf5ff2669430",
   "metadata": {},
   "outputs": [],
   "source": [
    "import pandas as pd\n",
    "import yfinance as yf\n",
    "import FinanceDataReader as fdr\n",
    "from pathlib import Path\n",
    "from tqdm import tqdm\n",
    "from tools.usetf_list import USETF_LIST\n",
    "import warnings\n",
    "warnings.filterwarnings('ignore')"
   ]
  },
  {
   "cell_type": "code",
   "execution_count": 53,
   "id": "c51da714-365b-4798-b980-85b274f7495a",
   "metadata": {},
   "outputs": [],
   "source": [
    "def download_prices(ticker_list:list, src = 'yfinance', start_date=\"2000-01-01\", end_date=\"2024-07-28\"):\n",
    "    prices_list = []\n",
    "    for ticker in tqdm(ticker_list):\n",
    "        if src == 'yfinance':\n",
    "            stock = yf.Ticker(ticker)\n",
    "            price_info = stock.history(start=start_date, end=end_date)\n",
    "        elif src == 'fdr':\n",
    "            price_info = fdr.DataReader(ticker, start=start_date, end=end_date)\n",
    "        price_info['ticker'] = ticker\n",
    "        # price_info.reset_index(inplace=True)\n",
    "        prices_list.append(price_info)\n",
    "    prices_df = pd.concat(prices_list)\n",
    "    return prices_df\n",
    "\n",
    "def remake_df(prices_df):\n",
    "    # 날짜 형식으로 인덱스 변환 시도\n",
    "    if pd.api.types.is_datetime64_any_dtype(prices_df.index):\n",
    "        prices_df.index = prices_df.index.strftime('%Y-%m-%d')\n",
    "    \n",
    "    # 불필요한 컬럼 제거\n",
    "    columns_to_drop = ['adj close', 'capital gains', 'stock splits']\n",
    "    for column in columns_to_drop:\n",
    "        if column in prices_df.columns:\n",
    "            prices_df = prices_df.drop([column], axis=1)\n",
    "    \n",
    "    # 인덱스 재설정 및 컬럼명 정리\n",
    "    prices_df = prices_df.reset_index()\n",
    "    prices_df.columns = prices_df.columns.str.lower()\n",
    "    prices_df.columns = prices_df.columns.str.replace(\"dividends\", \"dividend\")\n",
    "    \n",
    "    # 인덱스 설정 및 중복 제거\n",
    "    if 'ticker' in prices_df.columns and 'date' in prices_df.columns:\n",
    "        prices_df = prices_df.set_index(['ticker', 'date'])\n",
    "        prices_df = prices_df[~prices_df.index.duplicated(keep='first')]\n",
    "    \n",
    "    return prices_df\n",
    "    \n",
    "# def remake_df(prices_df):\n",
    "\n",
    "#     try:\n",
    "#         prices_df.index = prices_df.index.strftime('%Y-%m-%d')\n",
    "#     except:\n",
    "#         pass    \n",
    "#     try: \n",
    "#         prices_df = prices_df.drop(['adj close'], axis=1)\n",
    "#     except:\n",
    "#         pass\n",
    "#     try: \n",
    "#         prices_df = prices_df.drop(['capital gains'], axis=1)\n",
    "#     except:\n",
    "#         pass\n",
    "#     try: \n",
    "#         prices_df = prices_df.drop(['stock splits'], axis=1)\n",
    "#     except:\n",
    "#         pass\n",
    "    \n",
    "#     prices_df = prices_df.reset_index()\n",
    "#     prices_df.columns = prices_df.columns.str.lower()\n",
    "#     prices_df.columns = prices_df.columns.str.replace(\"dividends\", \"dividend\")\n",
    "#     prices_df = prices_df.set_index(['ticker', 'date'])\n",
    "#     prices_df = prices_df[~prices_df.index.duplicated(keep='first')]\n",
    "#     return prices_df"
   ]
  },
  {
   "cell_type": "markdown",
   "id": "1a5bd5d1-f323-4308-baaf-0cc5f8091299",
   "metadata": {},
   "source": [
    "## Set Data Store path"
   ]
  },
  {
   "cell_type": "code",
   "execution_count": 30,
   "id": "eb2f99b7-3af0-4358-b853-053d0b36f842",
   "metadata": {},
   "outputs": [
    {
     "name": "stdout",
     "output_type": "stream",
     "text": [
      "E:\\mlft\\data\n"
     ]
    }
   ],
   "source": [
    "DATA_STORE = Path('E:/mlft/data/assets.h5')\n",
    "print(DATA_STORE.cwd())"
   ]
  },
  {
   "cell_type": "code",
   "execution_count": 45,
   "id": "b185d727-7967-44f8-abe3-2615265ebce9",
   "metadata": {},
   "outputs": [],
   "source": [
    "start_date=\"2000-01-01\"\n",
    "end_date=\"2024-07-28\""
   ]
  },
  {
   "cell_type": "markdown",
   "id": "17222228-49c1-4100-89e9-4ea3fb78e135",
   "metadata": {},
   "source": [
    "## Download US ETF"
   ]
  },
  {
   "cell_type": "markdown",
   "id": "61d4f2b9-50d5-4fe1-9ad0-5aed75ebce60",
   "metadata": {},
   "source": [
    "### download_usetf list from etfdb"
   ]
  },
  {
   "cell_type": "code",
   "execution_count": 5,
   "id": "b54738e2-bb76-4dc9-aa15-46a9d4f920b5",
   "metadata": {},
   "outputs": [],
   "source": [
    "key = f'us/etfs/tickers/etfdb/'"
   ]
  },
  {
   "cell_type": "code",
   "execution_count": 6,
   "id": "6811508c-a905-4855-94a4-c4714fabe227",
   "metadata": {},
   "outputs": [
    {
     "name": "stderr",
     "output_type": "stream",
     "text": [
      "100%|█████████████████████████████████████████████████████████████████████████████████████████████████████████████████████████| 136/136 [27:58<00:00, 12.34s/it]\n"
     ]
    }
   ],
   "source": [
    "etf_list = USETF_LIST()\n",
    "df = etf_list.get_etf_list()\n",
    "df = df.set_index('symbol')\n",
    "df.to_hdf(DATA_STORE, key, format='t')"
   ]
  },
  {
   "cell_type": "markdown",
   "id": "447958c7-244b-4e4d-a411-db6dd8de2adc",
   "metadata": {},
   "source": [
    "### download_usetf_prices from yfinance"
   ]
  },
  {
   "cell_type": "code",
   "execution_count": 32,
   "id": "f12504f7-4dce-40a6-9762-c59a406fa5a4",
   "metadata": {},
   "outputs": [],
   "source": [
    "key = f'us/etfs/prices/yfinance'"
   ]
  },
  {
   "cell_type": "code",
   "execution_count": 14,
   "id": "10d90873-3830-4ef2-af10-a9d7677975c5",
   "metadata": {},
   "outputs": [
    {
     "name": "stdout",
     "output_type": "stream",
     "text": [
      "<class 'pandas.core.frame.DataFrame'>\n",
      "MultiIndex: 6190247 entries, ('SPY', '2000-01-03') to ('RBUF', '2024-07-26')\n",
      "Data columns (total 8 columns):\n",
      " #   Column         Dtype  \n",
      "---  ------         -----  \n",
      " 0   open           float64\n",
      " 1   high           float64\n",
      " 2   low            float64\n",
      " 3   close          float64\n",
      " 4   volume         float64\n",
      " 5   dividend       float64\n",
      " 6   stock splits   float64\n",
      " 7   capital gains  float64\n",
      "dtypes: float64(8)\n",
      "memory usage: 401.8+ MB\n"
     ]
    }
   ],
   "source": [
    "df = download_prices(df.index, start_date=start_date, end_date=end_date)\n",
    "df = remake_df(df)\n",
    "df.to_hdf(DATA_STORE, key, format='t')\n",
    "df.info()"
   ]
  },
  {
   "cell_type": "markdown",
   "id": "33a0db67-7194-4a6a-b2ec-4252dbc216c8",
   "metadata": {},
   "source": [
    "## Download US stocks"
   ]
  },
  {
   "cell_type": "markdown",
   "id": "382ac667-dd31-4e40-af69-013cb5caa94a",
   "metadata": {},
   "source": [
    "### download_snp500_stocks list from fdrc"
   ]
  },
  {
   "cell_type": "code",
   "execution_count": null,
   "id": "966f1262-a556-4613-a529-2c9f5fca57db",
   "metadata": {},
   "outputs": [],
   "source": [
    "key = f'us/snp500/tickers/fdr'"
   ]
  },
  {
   "cell_type": "code",
   "execution_count": 28,
   "id": "f94c00b8-05f9-4ea0-a640-fdd60c2106cb",
   "metadata": {},
   "outputs": [],
   "source": [
    "stock_list = fdr.StockListing('S&P500')\n",
    "stock_list.columns=stock_list.columns.str.lower()\n",
    "df = stock_list.set_index('symbol')\n",
    "df.to_hdf(DATA_STORE, key, format='t')\n",
    "df.head()"
   ]
  },
  {
   "cell_type": "markdown",
   "id": "bc7e574f-7eca-4b27-9e07-cf528b726065",
   "metadata": {},
   "source": [
    "### download_snp500_prices from yfinance"
   ]
  },
  {
   "cell_type": "code",
   "execution_count": null,
   "id": "323ad113-e5e2-4f08-aca4-bb0d3f04353b",
   "metadata": {},
   "outputs": [],
   "source": [
    "key = f'us/snp500/prices/yfinance'"
   ]
  },
  {
   "cell_type": "code",
   "execution_count": 29,
   "id": "c2e443e2-2305-4f11-a6e8-9a449b38e5de",
   "metadata": {},
   "outputs": [
    {
     "name": "stderr",
     "output_type": "stream",
     "text": [
      "$BRKB: possibly delisted; No timezone found\n",
      "Failed to get ticker 'BFB' reason: (\"Connection broken: InvalidChunkLength(got length b'', 0 bytes read)\", InvalidChunkLength(got length b'', 0 bytes read))\n",
      "$BFB: possibly delisted; No timezone found\n"
     ]
    }
   ],
   "source": [
    "df = download_prices(df.index, start_date=start_date, end_date=end_date)\n",
    "df = remake_df(df)\n",
    "df.to_hdf(DATA_STORE, key, format='t')\n",
    "df.info()"
   ]
  },
  {
   "cell_type": "markdown",
   "id": "ad1f2481-f085-4900-a75d-2f465b3abda5",
   "metadata": {},
   "source": [
    "### download_nasdaq_stocks list from fdr"
   ]
  },
  {
   "cell_type": "code",
   "execution_count": 41,
   "id": "b9805d4c-7836-4a84-83e1-98601ce2347f",
   "metadata": {},
   "outputs": [],
   "source": [
    "key = f'us/nasdaq/tickers/fdr'"
   ]
  },
  {
   "cell_type": "code",
   "execution_count": 42,
   "id": "989d4a3d-e396-42d4-a06d-42d19385ca60",
   "metadata": {},
   "outputs": [
    {
     "name": "stderr",
     "output_type": "stream",
     "text": [
      "100%|██████████████████████████████████████████████████████████████████████████████████████████████████████████████████████| 3737/3737 [00:10<00:00, 343.05it/s]\n"
     ]
    },
    {
     "data": {
      "text/html": [
       "<div>\n",
       "<style scoped>\n",
       "    .dataframe tbody tr th:only-of-type {\n",
       "        vertical-align: middle;\n",
       "    }\n",
       "\n",
       "    .dataframe tbody tr th {\n",
       "        vertical-align: top;\n",
       "    }\n",
       "\n",
       "    .dataframe thead th {\n",
       "        text-align: right;\n",
       "    }\n",
       "</style>\n",
       "<table border=\"1\" class=\"dataframe\">\n",
       "  <thead>\n",
       "    <tr style=\"text-align: right;\">\n",
       "      <th></th>\n",
       "      <th>name</th>\n",
       "      <th>industrycode</th>\n",
       "      <th>industry</th>\n",
       "    </tr>\n",
       "    <tr>\n",
       "      <th>symbol</th>\n",
       "      <th></th>\n",
       "      <th></th>\n",
       "      <th></th>\n",
       "    </tr>\n",
       "  </thead>\n",
       "  <tbody>\n",
       "    <tr>\n",
       "      <th>AAPL</th>\n",
       "      <td>Apple Inc</td>\n",
       "      <td>57106020</td>\n",
       "      <td>전화 및 소형 장치</td>\n",
       "    </tr>\n",
       "    <tr>\n",
       "      <th>MSFT</th>\n",
       "      <td>Microsoft Corp</td>\n",
       "      <td>57201020</td>\n",
       "      <td>소프트웨어</td>\n",
       "    </tr>\n",
       "    <tr>\n",
       "      <th>NVDA</th>\n",
       "      <td>NVIDIA Corp</td>\n",
       "      <td>57101010</td>\n",
       "      <td>반도체</td>\n",
       "    </tr>\n",
       "    <tr>\n",
       "      <th>AMZN</th>\n",
       "      <td>Amazon.com Inc</td>\n",
       "      <td>53402010</td>\n",
       "      <td>백화점</td>\n",
       "    </tr>\n",
       "    <tr>\n",
       "      <th>META</th>\n",
       "      <td>Meta Platforms Inc</td>\n",
       "      <td>57201030</td>\n",
       "      <td>온라인 서비스</td>\n",
       "    </tr>\n",
       "  </tbody>\n",
       "</table>\n",
       "</div>"
      ],
      "text/plain": [
       "                      name industrycode    industry\n",
       "symbol                                             \n",
       "AAPL             Apple Inc     57106020  전화 및 소형 장치\n",
       "MSFT        Microsoft Corp     57201020       소프트웨어\n",
       "NVDA           NVIDIA Corp     57101010         반도체\n",
       "AMZN        Amazon.com Inc     53402010         백화점\n",
       "META    Meta Platforms Inc     57201030     온라인 서비스"
      ]
     },
     "execution_count": 42,
     "metadata": {},
     "output_type": "execute_result"
    }
   ],
   "source": [
    "stock_list = fdr.StockListing('NASDAQ')\n",
    "stock_list.columns=stock_list.columns.str.lower()\n",
    "df = stock_list.set_index('symbol')\n",
    "df.to_hdf(DATA_STORE, key, format='t')\n",
    "df.head()"
   ]
  },
  {
   "cell_type": "markdown",
   "id": "51a3d9a8-9b32-423c-a1ed-f4458cd82446",
   "metadata": {},
   "source": [
    "### download_nasdaq_prices from yfinancec"
   ]
  },
  {
   "cell_type": "code",
   "execution_count": 43,
   "id": "da58f7fa-c93e-4afc-b133-11ce07c60352",
   "metadata": {},
   "outputs": [],
   "source": [
    "key = f'us/nasdaq/prices/yfinance'"
   ]
  },
  {
   "cell_type": "code",
   "execution_count": null,
   "id": "57d23402-f0af-413e-996b-e9f9218d5a89",
   "metadata": {},
   "outputs": [
    {
     "name": "stderr",
     "output_type": "stream",
     "text": [
      "  4%|████▉                                                                                                                   | 154/3737 [01:09<25:51,  2.31it/s]LINE: Period '1mo' is invalid, must be one of ['1d', '5d', 'ytd', 'max']\n",
      "  7%|████████▎                                                                                                               | 259/3737 [02:00<27:22,  2.12it/s]$DSGX: possibly delisted; No price data found  (1d 2000-01-01 -> 2024-07-28)\n",
      "  7%|████████▏                                                                                                             | 260/3737 [02:10<3:19:27,  3.44s/it]$MKTX: possibly delisted; No price data found  (1d 2000-01-01 -> 2024-07-28)\n",
      "  7%|████████▏                                                                                                             | 261/3737 [02:21<5:33:10,  5.75s/it]Failed to get ticker 'CGNX' reason: HTTPSConnectionPool(host='query2.finance.yahoo.com', port=443): Read timed out. (read timeout=10)\n",
      "$CGNX: possibly delisted; No timezone found\n",
      "  7%|████████▎                                                                                                             | 262/3737 [02:33<7:14:37,  7.50s/it]Failed to get ticker 'ROKU' reason: HTTPSConnectionPool(host='query2.finance.yahoo.com', port=443): Read timed out. (read timeout=10)\n",
      "$ROKU: possibly delisted; No timezone found\n",
      "  7%|████████▎                                                                                                             | 263/3737 [02:45<8:42:57,  9.03s/it]Failed to get ticker 'ITCI' reason: HTTPSConnectionPool(host='query2.finance.yahoo.com', port=443): Read timed out. (read timeout=10)\n",
      "$ITCI: possibly delisted; No timezone found\n",
      "  7%|████████▎                                                                                                             | 264/3737 [02:56<9:08:32,  9.48s/it]Failed to get ticker 'GTLB' reason: HTTPSConnectionPool(host='query2.finance.yahoo.com', port=443): Read timed out. (read timeout=10)\n",
      "$GTLB: possibly delisted; No timezone found\n",
      "  7%|████████▎                                                                                                             | 265/3737 [03:06<9:27:03,  9.80s/it]Failed to get ticker 'FUTU' reason: HTTPSConnectionPool(host='query2.finance.yahoo.com', port=443): Read timed out. (read timeout=10)\n",
      "$FUTU: possibly delisted; No timezone found\n",
      "  7%|████████▍                                                                                                             | 266/3737 [03:17<9:38:13, 10.00s/it]"
     ]
    }
   ],
   "source": [
    "df = download_prices(df.index, start_date=start_date, end_date=end_date)\n",
    "df = remake_df(df)\n",
    "df.to_hdf(DATA_STORE, key, format='t')\n",
    "df.info()"
   ]
  },
  {
   "cell_type": "markdown",
   "id": "a5e936e0-a5ce-4498-bca6-920f9a8c3dda",
   "metadata": {},
   "source": [
    "### download_nyse_stocks list from fdr"
   ]
  },
  {
   "cell_type": "code",
   "execution_count": null,
   "id": "c3e8e548-66bb-4073-8f07-6f0847caca27",
   "metadata": {},
   "outputs": [],
   "source": [
    "key = f'us/nyse/tickers/fdr'"
   ]
  },
  {
   "cell_type": "code",
   "execution_count": null,
   "id": "59ca1872-cbaf-4743-a5bd-fdee8c5b74c8",
   "metadata": {},
   "outputs": [],
   "source": [
    "stock_list = fdr.StockListing('NYSE')\n",
    "stock_list.columns=stock_list.columns.str.lower()\n",
    "df = stock_list.set_index('symbol')\n",
    "df.to_hdf(DATA_STORE, key, format='t')\n",
    "df.head()"
   ]
  },
  {
   "cell_type": "markdown",
   "id": "8dcd3186-770f-444b-aae7-8cde9358a531",
   "metadata": {},
   "source": [
    "### download_nyse_prices from yfinancec"
   ]
  },
  {
   "cell_type": "code",
   "execution_count": null,
   "id": "3418a6d6-1b2b-4134-a5ed-af8efe46e4c3",
   "metadata": {},
   "outputs": [],
   "source": [
    "key = f'us/nyse/prices/yfinance'"
   ]
  },
  {
   "cell_type": "code",
   "execution_count": null,
   "id": "0d9f6e1c-421c-4d82-b04d-82e342b02f5b",
   "metadata": {},
   "outputs": [],
   "source": [
    "df = download_prices(df.index, start_date=start_date, end_date=end_date)\n",
    "df = remake_df(df)\n",
    "df.to_hdf(DATA_STORE, key, format='t')\n",
    "df.info()"
   ]
  },
  {
   "cell_type": "markdown",
   "id": "524d717c-e7d0-4bca-8271-7c38bdffb622",
   "metadata": {},
   "source": [
    "## Download KR stocks"
   ]
  },
  {
   "cell_type": "markdown",
   "id": "e6867376-e5ca-4b4f-a7f7-1d246d82f86c",
   "metadata": {},
   "source": [
    "### download_etf list from fdr"
   ]
  },
  {
   "cell_type": "code",
   "execution_count": 21,
   "id": "42bf5eab-648d-45da-8e7a-492994cba862",
   "metadata": {},
   "outputs": [],
   "source": [
    "key = f'kr/etf/tickers/fdr'"
   ]
  },
  {
   "cell_type": "code",
   "execution_count": 23,
   "id": "75140adf-9d66-40d4-8411-896af67b6388",
   "metadata": {},
   "outputs": [
    {
     "data": {
      "text/html": [
       "<div>\n",
       "<style scoped>\n",
       "    .dataframe tbody tr th:only-of-type {\n",
       "        vertical-align: middle;\n",
       "    }\n",
       "\n",
       "    .dataframe tbody tr th {\n",
       "        vertical-align: top;\n",
       "    }\n",
       "\n",
       "    .dataframe thead th {\n",
       "        text-align: right;\n",
       "    }\n",
       "</style>\n",
       "<table border=\"1\" class=\"dataframe\">\n",
       "  <thead>\n",
       "    <tr style=\"text-align: right;\">\n",
       "      <th></th>\n",
       "      <th>category</th>\n",
       "      <th>name</th>\n",
       "      <th>price</th>\n",
       "      <th>risefall</th>\n",
       "      <th>change</th>\n",
       "      <th>changerate</th>\n",
       "      <th>nav</th>\n",
       "      <th>earningrate</th>\n",
       "      <th>volume</th>\n",
       "      <th>amount</th>\n",
       "      <th>marcap</th>\n",
       "    </tr>\n",
       "    <tr>\n",
       "      <th>symbol</th>\n",
       "      <th></th>\n",
       "      <th></th>\n",
       "      <th></th>\n",
       "      <th></th>\n",
       "      <th></th>\n",
       "      <th></th>\n",
       "      <th></th>\n",
       "      <th></th>\n",
       "      <th></th>\n",
       "      <th></th>\n",
       "      <th></th>\n",
       "    </tr>\n",
       "  </thead>\n",
       "  <tbody>\n",
       "    <tr>\n",
       "      <th>459580</th>\n",
       "      <td>6</td>\n",
       "      <td>KODEX CD금리액티브(합성)</td>\n",
       "      <td>1043380</td>\n",
       "      <td>2</td>\n",
       "      <td>70</td>\n",
       "      <td>0.01</td>\n",
       "      <td>1043379.0</td>\n",
       "      <td>0.8833</td>\n",
       "      <td>533604</td>\n",
       "      <td>556750</td>\n",
       "      <td>94960</td>\n",
       "    </tr>\n",
       "    <tr>\n",
       "      <th>357870</th>\n",
       "      <td>6</td>\n",
       "      <td>TIGER CD금리투자KIS(합성)</td>\n",
       "      <td>54685</td>\n",
       "      <td>3</td>\n",
       "      <td>0</td>\n",
       "      <td>0.00</td>\n",
       "      <td>54687.0</td>\n",
       "      <td>0.8762</td>\n",
       "      <td>189030</td>\n",
       "      <td>10337</td>\n",
       "      <td>66364</td>\n",
       "    </tr>\n",
       "    <tr>\n",
       "      <th>069500</th>\n",
       "      <td>1</td>\n",
       "      <td>KODEX 200</td>\n",
       "      <td>38080</td>\n",
       "      <td>2</td>\n",
       "      <td>450</td>\n",
       "      <td>1.20</td>\n",
       "      <td>38145.0</td>\n",
       "      <td>4.0508</td>\n",
       "      <td>2321332</td>\n",
       "      <td>88405</td>\n",
       "      <td>62032</td>\n",
       "    </tr>\n",
       "    <tr>\n",
       "      <th>423160</th>\n",
       "      <td>6</td>\n",
       "      <td>KODEX KOFR금리액티브(합성)</td>\n",
       "      <td>107540</td>\n",
       "      <td>2</td>\n",
       "      <td>15</td>\n",
       "      <td>0.01</td>\n",
       "      <td>107529.0</td>\n",
       "      <td>0.8819</td>\n",
       "      <td>99116</td>\n",
       "      <td>10659</td>\n",
       "      <td>45217</td>\n",
       "    </tr>\n",
       "    <tr>\n",
       "      <th>360750</th>\n",
       "      <td>4</td>\n",
       "      <td>TIGER 미국S&amp;P500</td>\n",
       "      <td>18945</td>\n",
       "      <td>2</td>\n",
       "      <td>180</td>\n",
       "      <td>0.96</td>\n",
       "      <td>18845.0</td>\n",
       "      <td>7.5666</td>\n",
       "      <td>2878170</td>\n",
       "      <td>54491</td>\n",
       "      <td>42266</td>\n",
       "    </tr>\n",
       "  </tbody>\n",
       "</table>\n",
       "</div>"
      ],
      "text/plain": [
       "        category                 name    price risefall  change  changerate  \\\n",
       "symbol                                                                        \n",
       "459580         6    KODEX CD금리액티브(합성)  1043380        2      70        0.01   \n",
       "357870         6  TIGER CD금리투자KIS(합성)    54685        3       0        0.00   \n",
       "069500         1            KODEX 200    38080        2     450        1.20   \n",
       "423160         6  KODEX KOFR금리액티브(합성)   107540        2      15        0.01   \n",
       "360750         4       TIGER 미국S&P500    18945        2     180        0.96   \n",
       "\n",
       "              nav  earningrate   volume  amount  marcap  \n",
       "symbol                                                   \n",
       "459580  1043379.0       0.8833   533604  556750   94960  \n",
       "357870    54687.0       0.8762   189030   10337   66364  \n",
       "069500    38145.0       4.0508  2321332   88405   62032  \n",
       "423160   107529.0       0.8819    99116   10659   45217  \n",
       "360750    18845.0       7.5666  2878170   54491   42266  "
      ]
     },
     "execution_count": 23,
     "metadata": {},
     "output_type": "execute_result"
    }
   ],
   "source": [
    "stock_list = fdr.StockListing('ETF/KR')\n",
    "stock_list.columns=stock_list.columns.str.lower()\n",
    "df = stock_list.set_index('symbol')\n",
    "df.to_hdf(DATA_STORE, key, format='t')\n",
    "df.head()"
   ]
  },
  {
   "cell_type": "markdown",
   "id": "ad4828b0-3a47-430b-b830-869ce693ba2f",
   "metadata": {},
   "source": [
    "### download_etf_prices from fdr"
   ]
  },
  {
   "cell_type": "code",
   "execution_count": 24,
   "id": "ac373382-2d16-4c4f-867d-abb61beadd1d",
   "metadata": {},
   "outputs": [],
   "source": [
    "key = f'kr/etf/prices/fdr'"
   ]
  },
  {
   "cell_type": "code",
   "execution_count": 25,
   "id": "ef0d4980-e789-4373-94d1-7ec0e3d53e10",
   "metadata": {},
   "outputs": [
    {
     "name": "stderr",
     "output_type": "stream",
     "text": [
      "100%|█████████████████████████████████████████████████████████████████████████████████████████████████████████████████████████| 873/873 [08:23<00:00,  1.73it/s]\n"
     ]
    },
    {
     "data": {
      "text/html": [
       "<div>\n",
       "<style scoped>\n",
       "    .dataframe tbody tr th:only-of-type {\n",
       "        vertical-align: middle;\n",
       "    }\n",
       "\n",
       "    .dataframe tbody tr th {\n",
       "        vertical-align: top;\n",
       "    }\n",
       "\n",
       "    .dataframe thead th {\n",
       "        text-align: right;\n",
       "    }\n",
       "</style>\n",
       "<table border=\"1\" class=\"dataframe\">\n",
       "  <thead>\n",
       "    <tr style=\"text-align: right;\">\n",
       "      <th></th>\n",
       "      <th></th>\n",
       "      <th>open</th>\n",
       "      <th>high</th>\n",
       "      <th>low</th>\n",
       "      <th>close</th>\n",
       "      <th>volume</th>\n",
       "      <th>change</th>\n",
       "    </tr>\n",
       "    <tr>\n",
       "      <th>ticker</th>\n",
       "      <th>date</th>\n",
       "      <th></th>\n",
       "      <th></th>\n",
       "      <th></th>\n",
       "      <th></th>\n",
       "      <th></th>\n",
       "      <th></th>\n",
       "    </tr>\n",
       "  </thead>\n",
       "  <tbody>\n",
       "    <tr>\n",
       "      <th rowspan=\"5\" valign=\"top\">459580</th>\n",
       "      <th>2023-06-08</th>\n",
       "      <td>1000970</td>\n",
       "      <td>1000970</td>\n",
       "      <td>1000960</td>\n",
       "      <td>1000965</td>\n",
       "      <td>6877</td>\n",
       "      <td>NaN</td>\n",
       "    </tr>\n",
       "    <tr>\n",
       "      <th>2023-06-09</th>\n",
       "      <td>1000965</td>\n",
       "      <td>1001245</td>\n",
       "      <td>1000955</td>\n",
       "      <td>1001245</td>\n",
       "      <td>8924</td>\n",
       "      <td>0.000280</td>\n",
       "    </tr>\n",
       "    <tr>\n",
       "      <th>2023-06-12</th>\n",
       "      <td>1001400</td>\n",
       "      <td>1001400</td>\n",
       "      <td>1001390</td>\n",
       "      <td>1001400</td>\n",
       "      <td>6657</td>\n",
       "      <td>0.000155</td>\n",
       "    </tr>\n",
       "    <tr>\n",
       "      <th>2023-06-13</th>\n",
       "      <td>1001445</td>\n",
       "      <td>1001445</td>\n",
       "      <td>1001435</td>\n",
       "      <td>1001445</td>\n",
       "      <td>5902</td>\n",
       "      <td>0.000045</td>\n",
       "    </tr>\n",
       "    <tr>\n",
       "      <th>2023-06-14</th>\n",
       "      <td>1001545</td>\n",
       "      <td>1001545</td>\n",
       "      <td>1001530</td>\n",
       "      <td>1001545</td>\n",
       "      <td>8275</td>\n",
       "      <td>0.000100</td>\n",
       "    </tr>\n",
       "  </tbody>\n",
       "</table>\n",
       "</div>"
      ],
      "text/plain": [
       "                      open     high      low    close  volume    change\n",
       "ticker date                                                            \n",
       "459580 2023-06-08  1000970  1000970  1000960  1000965    6877       NaN\n",
       "       2023-06-09  1000965  1001245  1000955  1001245    8924  0.000280\n",
       "       2023-06-12  1001400  1001400  1001390  1001400    6657  0.000155\n",
       "       2023-06-13  1001445  1001445  1001435  1001445    5902  0.000045\n",
       "       2023-06-14  1001545  1001545  1001530  1001545    8275  0.000100"
      ]
     },
     "execution_count": 25,
     "metadata": {},
     "output_type": "execute_result"
    }
   ],
   "source": [
    "df = download_prices(df.index, src ='fdr', start_date=start_date, end_date=end_date)\n",
    "df = remake_df(df)\n",
    "df.to_hdf(DATA_STORE, key, format='t')\n",
    "df.head()"
   ]
  },
  {
   "cell_type": "markdown",
   "id": "3efc35c6-ee1a-4387-af18-5db428638566",
   "metadata": {},
   "source": [
    "### download_kospi_stocks list from fdr"
   ]
  },
  {
   "cell_type": "code",
   "execution_count": null,
   "id": "237f845a-1050-4c6e-b5be-a3fac544e3b6",
   "metadata": {},
   "outputs": [],
   "source": [
    "key = f'kr/kospi/tickers/fdr'"
   ]
  },
  {
   "cell_type": "code",
   "execution_count": null,
   "id": "508e4866-ecd0-4ba8-bc2c-273fea323dee",
   "metadata": {},
   "outputs": [],
   "source": [
    "stock_list = fdr.StockListing('KOSPI')\n",
    "stock_list.columns=stock_list.columns.str.lower()\n",
    "df = stock_list.set_index('symbol')\n",
    "df.to_hdf(DATA_STORE, key, format='t')\n",
    "df.head()"
   ]
  },
  {
   "cell_type": "markdown",
   "id": "a3650c8c-3935-4150-8fef-5e2618cf6bdf",
   "metadata": {},
   "source": [
    "### download_kospi_prices from fdr"
   ]
  },
  {
   "cell_type": "code",
   "execution_count": null,
   "id": "4fc8add4-f6f3-48dc-a16c-76a7bd7831e8",
   "metadata": {},
   "outputs": [],
   "source": [
    "key = f'kr/kospi/prices/naver'"
   ]
  },
  {
   "cell_type": "code",
   "execution_count": null,
   "id": "e2862dcc-852a-4c00-b130-be4c842b15d9",
   "metadata": {},
   "outputs": [],
   "source": [
    "df = download_prices(df.index, src ='fdr', start_date=start_date, end_date=end_date)\n",
    "df = remake_df(df)\n",
    "df.to_hdf(DATA_STORE, key, format='t')\n",
    "df.head()"
   ]
  },
  {
   "cell_type": "markdown",
   "id": "f3edf938-268e-4efa-82b5-11a20a6f7d70",
   "metadata": {},
   "source": [
    "## Download CHN stocks"
   ]
  },
  {
   "cell_type": "markdown",
   "id": "8305172a-71bb-4c48-a05d-50e609456cad",
   "metadata": {},
   "source": [
    "### download_shaghai_stocks list from fdr"
   ]
  },
  {
   "cell_type": "code",
   "execution_count": null,
   "id": "2afc1dbf-159f-4845-abe9-9db7d201a453",
   "metadata": {},
   "outputs": [],
   "source": [
    "key = f'chn/sse/tickers/fdr'"
   ]
  },
  {
   "cell_type": "code",
   "execution_count": null,
   "id": "9b9a4b57-db0e-4c10-b785-d872d60738c4",
   "metadata": {},
   "outputs": [],
   "source": [
    "stock_list = fdr.StockListing('SSE')\n",
    "stock_list.columns=stock_list.columns.str.lower()\n",
    "df = stock_list.set_index('symbol')\n",
    "df.to_hdf(DATA_STORE, key, format='t')\n",
    "df.head()"
   ]
  },
  {
   "cell_type": "markdown",
   "id": "031f2680-16eb-449b-aac1-699c7e8adf24",
   "metadata": {},
   "source": [
    "### download_shaghai_prices from fdr"
   ]
  },
  {
   "cell_type": "code",
   "execution_count": null,
   "id": "9312adfa-a517-464d-b494-ab6029fb0b84",
   "metadata": {},
   "outputs": [],
   "source": [
    "key = f'chn/sse/prices/fdr'"
   ]
  },
  {
   "cell_type": "code",
   "execution_count": null,
   "id": "95f17353-4a37-4434-81eb-8942910cbf6d",
   "metadata": {},
   "outputs": [],
   "source": [
    "df = download_prices(df.index, src ='fdr', start_date=start_date, end_date=end_date)\n",
    "df = remake_df(df)\n",
    "df.to_hdf(DATA_STORE, key, format='t')\n",
    "df.head()"
   ]
  },
  {
   "cell_type": "markdown",
   "id": "a6526226-0861-49cd-97f3-4e9e6bb408b2",
   "metadata": {},
   "source": [
    "### download_shenzen_stocks list from fdrc"
   ]
  },
  {
   "cell_type": "code",
   "execution_count": null,
   "id": "51b27ab7-343b-4126-8813-3ce003cf10ad",
   "metadata": {},
   "outputs": [],
   "source": [
    "key = f'chn/szse/tickers/fdr'"
   ]
  },
  {
   "cell_type": "code",
   "execution_count": null,
   "id": "6bb5b5d4-fc05-4df1-a126-b8ef69445205",
   "metadata": {},
   "outputs": [],
   "source": [
    "stock_list = fdr.StockListing('SZSE')\n",
    "stock_list.columns=stock_list.columns.str.lower()\n",
    "df = stock_list.set_index('symbol')\n",
    "df.to_hdf(DATA_STORE, key, format='t')\n",
    "df.head()"
   ]
  },
  {
   "cell_type": "markdown",
   "id": "06297c8b-a70a-47d2-ac7f-c39cdf93478c",
   "metadata": {},
   "source": [
    "### download_shenzen_prices list from fdrc"
   ]
  },
  {
   "cell_type": "code",
   "execution_count": null,
   "id": "b80f01df-69c0-4f48-89c6-8c11176e1e88",
   "metadata": {},
   "outputs": [],
   "source": [
    "key = f'chn/szse/prices/fdr'"
   ]
  },
  {
   "cell_type": "code",
   "execution_count": null,
   "id": "e0a6e3a1-230e-48f6-bf57-ffa595a81f42",
   "metadata": {},
   "outputs": [],
   "source": [
    "df = download_prices(df.index, src ='fdr', start_date=start_date, end_date=end_date)\n",
    "df = remake_df(df)\n",
    "df.to_hdf(DATA_STORE, key, format='t')\n",
    "df.head()"
   ]
  },
  {
   "cell_type": "markdown",
   "id": "f93fd474-2d57-468a-9a94-d385613b2df3",
   "metadata": {},
   "source": [
    "## Download JPN stocks"
   ]
  },
  {
   "cell_type": "markdown",
   "id": "ab4b21df-b855-457b-8071-6a19f61de4ef",
   "metadata": {},
   "source": [
    "### download_tse_stocks list from fdr"
   ]
  },
  {
   "cell_type": "code",
   "execution_count": null,
   "id": "70e3a05c-2f21-4449-b165-c042ee540f43",
   "metadata": {},
   "outputs": [],
   "source": [
    "key = f'jpn/tse/tickers/fdr'"
   ]
  },
  {
   "cell_type": "code",
   "execution_count": null,
   "id": "528dc11a-b5d1-4ebe-887b-07e7f79a079a",
   "metadata": {},
   "outputs": [],
   "source": [
    "stock_list = fdr.StockListing('TSE')\n",
    "stock_list.columns=stock_list.columns.str.lower()\n",
    "df = stock_list.set_index('symbol')\n",
    "df.to_hdf(DATA_STORE, key, format='t')\n",
    "df.head()"
   ]
  },
  {
   "cell_type": "markdown",
   "id": "b27f746a-a0ec-4095-ac32-885d983bbc47",
   "metadata": {},
   "source": [
    "### download_tse_stocks prices from fdr"
   ]
  },
  {
   "cell_type": "code",
   "execution_count": null,
   "id": "48a666c1-ee27-4fc0-b3a5-ec75d3c160dd",
   "metadata": {},
   "outputs": [],
   "source": [
    "key = f'jpn/tse/prices/fdr'"
   ]
  },
  {
   "cell_type": "code",
   "execution_count": null,
   "id": "1ac42c87-1286-48ca-a03b-03e6dabf27ae",
   "metadata": {},
   "outputs": [],
   "source": [
    "df = download_prices(df.index, src ='fdr', start_date=start_date, end_date=end_date)\n",
    "df = remake_df(df)\n",
    "df.to_hdf(DATA_STORE, key, format='t')\n",
    "df.head()"
   ]
  },
  {
   "cell_type": "markdown",
   "id": "b026ec3b-074b-416a-abe7-d3aa8e517441",
   "metadata": {},
   "source": [
    "## commodity 데이터"
   ]
  },
  {
   "cell_type": "code",
   "execution_count": null,
   "id": "710f2fa2-ac95-48a8-a222-8f4b200e5eb5",
   "metadata": {},
   "outputs": [],
   "source": []
  },
  {
   "cell_type": "code",
   "execution_count": null,
   "id": "d6dce786-6b49-4b48-b750-3a87139d9a6a",
   "metadata": {},
   "outputs": [],
   "source": [
    "stock_list = {'HG=F':'구리', 'PA=F':'팔라듐',\n",
    "        'CL=F':'크루드 오일', 'BZ=F':'브렌트유','HO=F':'등유',\n",
    "        'NG=F':'천연가스',\n",
    "        'GC=F':'금','SI=F':'은', 'PL=F':'백금',\n",
    "        'ZC=F':'옥수수','ZO=F':'귀리', 'KE=F':'밀', 'ZM=F':'콩','ZL=F':'콩 오일','ZR=F':'쌀',\n",
    "        'GF=F':'사료', 'HE=F':'돼지 고기', 'LE=F':'소고기',\n",
    "        'LBS=F':'목재',\n",
    "        'CC=F':'코코아', 'KC=F':'커피', 'CT=F':'원면', 'SB=F':'설탕','OJ=F':'오렌지'}\n",
    "stock_list.\n"
   ]
  },
  {
   "cell_type": "markdown",
   "id": "e2d5dbd4-1e43-409c-a404-41b4d2e17d04",
   "metadata": {},
   "source": [
    "### download_tse_stocks prices from fdr"
   ]
  },
  {
   "cell_type": "code",
   "execution_count": null,
   "id": "1bca8a2f-aa25-4620-a2ab-2c87882ade0c",
   "metadata": {},
   "outputs": [],
   "source": [
    "key = f'global/commodity/prices/yfinanae'"
   ]
  },
  {
   "cell_type": "code",
   "execution_count": null,
   "id": "6c810b36-ba68-4d73-af5f-70c944f6e008",
   "metadata": {},
   "outputs": [],
   "source": [
    "df = download_prices(df.index, src ='yfinance', start_date=start_date, end_date=end_date)\n",
    "df = remake_df(df)\n",
    "df.to_hdf(DATA_STORE, key, format='t')\n",
    "df.head()"
   ]
  },
  {
   "cell_type": "markdown",
   "id": "8561533f-2f81-44bb-a7a0-38b9042b5f12",
   "metadata": {},
   "source": [
    "## Money market 데이터"
   ]
  },
  {
   "cell_type": "markdown",
   "id": "c662c469-cb70-475b-93bf-54b6b997c9d7",
   "metadata": {},
   "source": [
    "\n",
    "- St. Louis Adjusted Monetary Base\n",
    "- Money Stock: M1, M2\n",
    "- Velocity of Money Stock: M1, M2\n",
    "- Effective Federal Funds Rate\n",
    "- Treasury: 3개월, 2년, 5년, 10년, 30년\n",
    "- Breakeven Inflation Rate: 5년, 10년\n",
    "- Forward Inflation Expectation Rate: 5년\n",
    "- TED Spread\n",
    "- Bank Prime Loan Rate"
   ]
  },
  {
   "cell_type": "code",
   "execution_count": null,
   "id": "d9c99a5c-18a5-462e-bace-240875174737",
   "metadata": {},
   "outputs": [],
   "source": [
    "tags = {'BASE':'St. Louis Adjusted Monetary Base',\n",
    "        'M1': 'M1 Money Stock',\n",
    "        'M2':\t'M2 Money Stock',\n",
    "        'M1V' : 'Velocity of M1 Money Stock',\n",
    "        'M2V' : 'Velocity of M2 Money Stock'}\n",
    "\n",
    "tags = {'DFF' : 'Effective Federal Funds Rate',\n",
    "        'DTB3' : '3-Month Treasury Bill: Secondary Market Rate',\n",
    "        'DGS2' : '2-Year Treasury Constant Maturity Rate',\n",
    "        'DGS5' : '5-Year Treasury Constant Maturity Rate',\n",
    "        'DGS10' : '10-Year Treasury Constant Maturity Rate',\n",
    "        'DGS30' : '30-Year Treasury Constant Maturity Rate',\n",
    "        'T5YIE' : '5-year Breakeven Inflation Rate',\n",
    "        'T10YIE' : '10-year Breakeven Inflation Rate',\n",
    "        'T5YIFR' : '5-Year, 5-Year Forward Inflation Expectation Rate',\n",
    "        'TEDRATE' : 'TED Spread',\n",
    "        'DPRIME' : 'Bank Prime Loan Rate'}\n",
    "\n",
    "tags = { 'DEXCHUS':'위안화', 'DEXJPUS':'엔화', 'DEXKOUS':'원화','DEXBZUS':'헤알화', 'DEXEUUS': '유로화'}"
   ]
  },
  {
   "cell_type": "markdown",
   "id": "807b43b4-7a81-487b-a593-8bc596958d1d",
   "metadata": {},
   "source": [
    "## Prices and Inflation"
   ]
  },
  {
   "cell_type": "markdown",
   "id": "7eeb0dc6-3f48-477d-88a5-bb65acd006db",
   "metadata": {},
   "source": [
    "\n",
    "- CPI, Consumer Price Index\n",
    "- Gross Domestic Product: Implicit Price Deflator\n",
    "\n",
    "- Gross Domestic Product\n",
    "- GDP Difference = Real Gross Domestic Produc - Real Potential Gross Domestic Product\n",
    "\n",
    "- Civilian Unemployment Rate\n",
    "- Natural Rate of Unemployment\n",
    "- Civilian Labor Force Participation Rate\n",
    "- Civilian Employment-Population Ratio\n",
    "- Unemployed\n",
    "- All Employees\n",
    "- Initial Claims\n",
    "\n",
    "-  Real Median Household Income in the United States (미국의 실질 중위 가구 소득)\n",
    "- Real Disposable Personal Income (실질가처분소득)\n",
    "- Personal Consumption Expenditures (개인소비지출)\n",
    "- Personal Consumption Expenditures: Durable Goods (개인 소비 지출: 내구재)\n",
    "- Personal Saving Rate (개인 저축률)\n",
    "- Real Retail and Food Services Sales (실제 소매 및 식품 서비스 판매)\n",
    "- Disposable personal income (가처분소득)\n",
    "\n",
    "-  Industrial Production Index (산업생산지수)\n",
    "- Capacity Utilization: Total Industry (CAPA 활용: 총 산업)\n",
    "- Housing Starts: Total: New Privately Owned Housing Units Started (주택 착공: 총합: 신규 개인 주택 )\n",
    "- Gross Private Domestic Investment (민간투자총액)\n",
    "- Corporate Profits After Tax (법인세 후 이익(IVA 및 CCAdj 미포함)\n",
    "- St. Louis Fed Financial Stress Index (세인트루이스 연방 재정압박 지수)\n",
    "- Crude Oil Prices: West Texas Intermediate (WTI) - Cushing, Oklahoma (원유 가격: 서부 텍사스 중질유(WTI) - 오클라호마 쿠싱)\n",
    "- Leading Index for the United States (미국의 선행 지수)\n",
    "- Trade Weighted U.S. Dollar Index: Major Currencies (무역 비중 미국 달러 지수: 주요 통화)\n",
    "- Trade Weighted U.S. Dollar Index: Broad (무역 비중 미국 달러 지수: 광범위)\n",
    "\n",
    "\n",
    "                                                      -  Federal Debt: Total Public Debt (연방 부채: 총 공채)\n",
    "- Federal Debt: Total Public Debt as Percent of Gross Domestic Product (연방 부채: 국내총생산의 비율에 따른 총 공공부채)\n",
    "- Excess Reserves of Depository Institutions (초과 지급 준비금)\n",
    "- Commercial and Industrial Loans, All Commercial Banks (상업 및 산업 대출, 모든 시중 은행)"
   ]
  },
  {
   "cell_type": "code",
   "execution_count": null,
   "id": "0318bef2-fbb4-4b63-a7d0-19148a31bf4c",
   "metadata": {},
   "outputs": [],
   "source": [
    "tags = {'CPIAUCSL': 'Consumer Price Index for All Urban Consumers: All Items',\n",
    "        'CPILFESL': 'Consumer Price Index for All Urban Consumers: All Items Less Food & Energy',\n",
    "        'GDPDEF': 'Gross Domestic Product: Implicit Price Deflator'}\n",
    "\n",
    "tags = {'GDP': 'Gross Domestic Product',\n",
    "        'GDPC1' : 'Real Gross Domestic Product',\n",
    "        'GDPPOT': 'Real Potential Gross Domestic Product'}\n",
    "\n",
    "tags = {'UNRATE' : 'Civilian Unemployment Rate',\n",
    "        'NROU': 'Natural Rate of Unemployment (Long-Term)',\n",
    "        'NROUST' : 'Natural Rate of Unemployment (Short-Term)',\n",
    "        'CIVPART' : 'Civilian Labor Force Participation Rate',\n",
    "        'EMRATIO' : 'Civilian Employment-Population Ratio',\n",
    "        'UNEMPLOY' : 'Unemployed',\n",
    "        'PAYEMS' : 'All Employees: Total nonfarm',\n",
    "        'MANEMP' : 'All Employees: Manufacturing',\n",
    "        'ICSA' : 'Initial Claims',\n",
    "        'IC4WSA': '4-Week Moving Average of Initial Claims'}\n",
    "\n",
    "\n",
    "tags = {'MEHOINUSA672N' : 'Real Median Household Income in the United States',\n",
    "        'DSPIC96' : 'Real Disposable Personal Income',\n",
    "        'PCE' : 'Personal Consumption Expenditures',\n",
    "        'PCEDG' : 'Personal Consumption Expenditures: Durable Goods',\n",
    "        'PSAVERT' : 'Personal Saving Rate',\n",
    "        'RRSFS' : 'Real Retail and Food Services Sales',\n",
    "        'DSPI' : 'Disposable personal income'}\n",
    "\n",
    "tags = {'INDPRO' : 'Industrial Production Index',\n",
    "        'TCU' : 'Capacity Utilization: Total Industry',\n",
    "        'HOUST' : 'Housing Starts: Total: New Privately Owned Housing Units Started',\n",
    "        'GPDI' : 'Gross Private Domestic Investment',\n",
    "        'CP': 'Corporate Profits After Tax (without IVA and CCAdj)',\n",
    "        'STLFSI' : 'St. Louis Fed Financial Stress Index',\n",
    "        'DCOILWTICO' : 'Crude Oil Prices: West Texas Intermediate (WTI) - Cushing, Oklahoma',\n",
    "        'USSLIND': 'Leading Index for the United States',\n",
    "        'DTWEXM' : 'Trade Weighted U.S. Dollar Index: Major Currencies',\n",
    "        'DTWEXB' : 'Trade Weighted U.S. Dollar Index: Broad'}\n",
    "\n",
    "\n",
    "tags = {'GFDEBTN' : 'Federal Debt: Total Public Debt',\n",
    "        'GFDEGDQ188S' : 'Federal Debt: Total Public Debt as Percent of Gross Domestic Product',\n",
    "        'EXCSRESNW' : 'Excess Reserves of Depository Institutions',\n",
    "        'TOTCI' : 'Commercial and Industrial Loans, All Commercial Banks'}"
   ]
  },
  {
   "cell_type": "markdown",
   "id": "7e3a4ddc-6857-4214-afd9-a326e05895ff",
   "metadata": {},
   "source": [
    "## check data in HDF5 format"
   ]
  },
  {
   "cell_type": "code",
   "execution_count": 8,
   "id": "f5e66def-aa10-43c9-addf-5fa6fc5a8bd8",
   "metadata": {},
   "outputs": [
    {
     "data": {
      "text/plain": [
       "['/engineered_features',\n",
       " '/us/snp500/tickers/fdr',\n",
       " '/us/snp500/prices/yfinance',\n",
       " '/us/etfs/tickers/etfdb',\n",
       " '/us/etfs/prices/yfinance',\n",
       " '/stooq/us/nysemkt/stocks/prices',\n",
       " '/stooq/us/nysemkt/stocks/tickers',\n",
       " '/stooq/us/nyse/stocks/prices',\n",
       " '/stooq/us/nyse/stocks/tickers',\n",
       " '/stooq/us/nyse/etfs/prices',\n",
       " '/stooq/us/nyse/etfs/tickers',\n",
       " '/stooq/us/nasdaq/stocks/prices',\n",
       " '/stooq/us/nasdaq/stocks/tickers',\n",
       " '/stooq/us/nasdaq/etfs/prices',\n",
       " '/stooq/us/nasdaq/etfs/tickers',\n",
       " '/stooq/jp/tse/stocks/prices',\n",
       " '/stooq/jp/tse/stocks/tickers',\n",
       " '/sp500/fred',\n",
       " '/sp500/stocks',\n",
       " '/sp500/stooq',\n",
       " '/quandl/wiki/prices',\n",
       " '/quandl/wiki/stocks',\n",
       " '/fred/assets']"
      ]
     },
     "execution_count": 8,
     "metadata": {},
     "output_type": "execute_result"
    }
   ],
   "source": [
    "with pd.HDFStore(DATA_STORE, mode='r') as store:\n",
    "    all_keys = store.keys()       \n",
    "all_keys"
   ]
  },
  {
   "cell_type": "code",
   "execution_count": 54,
   "id": "4fbfd4b4-ad44-4dde-b205-f6d496aca4ee",
   "metadata": {},
   "outputs": [],
   "source": [
    "key = f'us/etfs/prices/yfinance'"
   ]
  },
  {
   "cell_type": "code",
   "execution_count": 55,
   "id": "6f90ca26-e87d-40be-abb9-ac45f0741bba",
   "metadata": {},
   "outputs": [],
   "source": [
    "with pd.HDFStore(DATA_STORE, mode='r') as store:\n",
    "    df = store[key]  "
   ]
  },
  {
   "cell_type": "code",
   "execution_count": 56,
   "id": "cd42bfbb-50da-4fb1-9eea-a77fe4ae4056",
   "metadata": {},
   "outputs": [
    {
     "data": {
      "text/html": [
       "<div>\n",
       "<style scoped>\n",
       "    .dataframe tbody tr th:only-of-type {\n",
       "        vertical-align: middle;\n",
       "    }\n",
       "\n",
       "    .dataframe tbody tr th {\n",
       "        vertical-align: top;\n",
       "    }\n",
       "\n",
       "    .dataframe thead th {\n",
       "        text-align: right;\n",
       "    }\n",
       "</style>\n",
       "<table border=\"1\" class=\"dataframe\">\n",
       "  <thead>\n",
       "    <tr style=\"text-align: right;\">\n",
       "      <th></th>\n",
       "      <th></th>\n",
       "      <th>open</th>\n",
       "      <th>high</th>\n",
       "      <th>low</th>\n",
       "      <th>close</th>\n",
       "      <th>volume</th>\n",
       "      <th>dividend</th>\n",
       "    </tr>\n",
       "    <tr>\n",
       "      <th>ticker</th>\n",
       "      <th>date</th>\n",
       "      <th></th>\n",
       "      <th></th>\n",
       "      <th></th>\n",
       "      <th></th>\n",
       "      <th></th>\n",
       "      <th></th>\n",
       "    </tr>\n",
       "  </thead>\n",
       "  <tbody>\n",
       "    <tr>\n",
       "      <th rowspan=\"5\" valign=\"top\">SPY</th>\n",
       "      <th>2000-01-03</th>\n",
       "      <td>95.094217</td>\n",
       "      <td>95.094217</td>\n",
       "      <td>92.287896</td>\n",
       "      <td>93.290154</td>\n",
       "      <td>8164300.0</td>\n",
       "      <td>0.0</td>\n",
       "    </tr>\n",
       "    <tr>\n",
       "      <th>2000-01-04</th>\n",
       "      <td>92.067417</td>\n",
       "      <td>92.408185</td>\n",
       "      <td>89.571794</td>\n",
       "      <td>89.641953</td>\n",
       "      <td>8089800.0</td>\n",
       "      <td>0.0</td>\n",
       "    </tr>\n",
       "    <tr>\n",
       "      <th>2000-01-05</th>\n",
       "      <td>89.762247</td>\n",
       "      <td>90.784551</td>\n",
       "      <td>88.038363</td>\n",
       "      <td>89.802338</td>\n",
       "      <td>12177900.0</td>\n",
       "      <td>0.0</td>\n",
       "    </tr>\n",
       "    <tr>\n",
       "      <th>2000-01-06</th>\n",
       "      <td>89.561756</td>\n",
       "      <td>90.764466</td>\n",
       "      <td>88.359047</td>\n",
       "      <td>88.359047</td>\n",
       "      <td>6227200.0</td>\n",
       "      <td>0.0</td>\n",
       "    </tr>\n",
       "    <tr>\n",
       "      <th>2000-01-07</th>\n",
       "      <td>90.002758</td>\n",
       "      <td>93.490616</td>\n",
       "      <td>89.842397</td>\n",
       "      <td>93.490616</td>\n",
       "      <td>8066500.0</td>\n",
       "      <td>0.0</td>\n",
       "    </tr>\n",
       "    <tr>\n",
       "      <th>...</th>\n",
       "      <th>...</th>\n",
       "      <td>...</td>\n",
       "      <td>...</td>\n",
       "      <td>...</td>\n",
       "      <td>...</td>\n",
       "      <td>...</td>\n",
       "      <td>...</td>\n",
       "    </tr>\n",
       "    <tr>\n",
       "      <th rowspan=\"5\" valign=\"top\">RBUF</th>\n",
       "      <th>2024-07-22</th>\n",
       "      <td>25.549999</td>\n",
       "      <td>25.639999</td>\n",
       "      <td>25.549999</td>\n",
       "      <td>25.636999</td>\n",
       "      <td>2300.0</td>\n",
       "      <td>0.0</td>\n",
       "    </tr>\n",
       "    <tr>\n",
       "      <th>2024-07-23</th>\n",
       "      <td>25.693001</td>\n",
       "      <td>25.693001</td>\n",
       "      <td>25.680000</td>\n",
       "      <td>25.680000</td>\n",
       "      <td>600.0</td>\n",
       "      <td>0.0</td>\n",
       "    </tr>\n",
       "    <tr>\n",
       "      <th>2024-07-24</th>\n",
       "      <td>25.639999</td>\n",
       "      <td>25.639999</td>\n",
       "      <td>25.565001</td>\n",
       "      <td>25.565001</td>\n",
       "      <td>4600.0</td>\n",
       "      <td>0.0</td>\n",
       "    </tr>\n",
       "    <tr>\n",
       "      <th>2024-07-25</th>\n",
       "      <td>25.629999</td>\n",
       "      <td>25.670000</td>\n",
       "      <td>25.620001</td>\n",
       "      <td>25.620001</td>\n",
       "      <td>8500.0</td>\n",
       "      <td>0.0</td>\n",
       "    </tr>\n",
       "    <tr>\n",
       "      <th>2024-07-26</th>\n",
       "      <td>25.629999</td>\n",
       "      <td>25.719999</td>\n",
       "      <td>25.629999</td>\n",
       "      <td>25.684999</td>\n",
       "      <td>1000.0</td>\n",
       "      <td>0.0</td>\n",
       "    </tr>\n",
       "  </tbody>\n",
       "</table>\n",
       "<p>6190247 rows × 6 columns</p>\n",
       "</div>"
      ],
      "text/plain": [
       "                        open       high        low      close      volume  \\\n",
       "ticker date                                                                 \n",
       "SPY    2000-01-03  95.094217  95.094217  92.287896  93.290154   8164300.0   \n",
       "       2000-01-04  92.067417  92.408185  89.571794  89.641953   8089800.0   \n",
       "       2000-01-05  89.762247  90.784551  88.038363  89.802338  12177900.0   \n",
       "       2000-01-06  89.561756  90.764466  88.359047  88.359047   6227200.0   \n",
       "       2000-01-07  90.002758  93.490616  89.842397  93.490616   8066500.0   \n",
       "...                      ...        ...        ...        ...         ...   \n",
       "RBUF   2024-07-22  25.549999  25.639999  25.549999  25.636999      2300.0   \n",
       "       2024-07-23  25.693001  25.693001  25.680000  25.680000       600.0   \n",
       "       2024-07-24  25.639999  25.639999  25.565001  25.565001      4600.0   \n",
       "       2024-07-25  25.629999  25.670000  25.620001  25.620001      8500.0   \n",
       "       2024-07-26  25.629999  25.719999  25.629999  25.684999      1000.0   \n",
       "\n",
       "                   dividend  \n",
       "ticker date                  \n",
       "SPY    2000-01-03       0.0  \n",
       "       2000-01-04       0.0  \n",
       "       2000-01-05       0.0  \n",
       "       2000-01-06       0.0  \n",
       "       2000-01-07       0.0  \n",
       "...                     ...  \n",
       "RBUF   2024-07-22       0.0  \n",
       "       2024-07-23       0.0  \n",
       "       2024-07-24       0.0  \n",
       "       2024-07-25       0.0  \n",
       "       2024-07-26       0.0  \n",
       "\n",
       "[6190247 rows x 6 columns]"
      ]
     },
     "execution_count": 56,
     "metadata": {},
     "output_type": "execute_result"
    }
   ],
   "source": [
    "df"
   ]
  },
  {
   "cell_type": "markdown",
   "id": "b1ce1235-0326-4d9c-8b79-199810cd4c96",
   "metadata": {},
   "source": [
    "---"
   ]
  }
 ],
 "metadata": {
  "kernelspec": {
   "display_name": "Python 3 (ipykernel)",
   "language": "python",
   "name": "python3"
  },
  "language_info": {
   "codemirror_mode": {
    "name": "ipython",
    "version": 3
   },
   "file_extension": ".py",
   "mimetype": "text/x-python",
   "name": "python",
   "nbconvert_exporter": "python",
   "pygments_lexer": "ipython3",
   "version": "3.11.9"
  }
 },
 "nbformat": 4,
 "nbformat_minor": 5
}
