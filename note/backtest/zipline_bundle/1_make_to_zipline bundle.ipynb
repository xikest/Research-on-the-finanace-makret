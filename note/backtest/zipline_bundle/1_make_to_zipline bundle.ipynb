{
 "cells": [
  {
   "cell_type": "code",
   "execution_count": 17,
   "id": "ddd9739f-56c3-4990-86b2-4ec973d83c2b",
   "metadata": {},
   "outputs": [],
   "source": [
    "from pathlib import Path\n",
    "import shutil\n",
    "import pandas as pd\n",
    "import warnings\n",
    "import gc\n",
    "\n",
    "warnings.filterwarnings('ignore')"
   ]
  },
  {
   "cell_type": "code",
   "execution_count": 18,
   "id": "e86acbc8-d0e8-46c1-857f-09ea917654e7",
   "metadata": {},
   "outputs": [
    {
     "name": "stdout",
     "output_type": "stream",
     "text": [
      "E:\\mlft\\data\n"
     ]
    }
   ],
   "source": [
    "DATA_STORE = Path('E:/mlft/data/assets.h5')\n",
    "print(DATA_STORE.cwd())"
   ]
  },
  {
   "cell_type": "code",
   "execution_count": 19,
   "id": "f33e7d0b-d92d-46a0-993f-19fed01f8f6e",
   "metadata": {},
   "outputs": [
    {
     "data": {
      "text/plain": [
       "['/engineered_features',\n",
       " '/us/snp500/tickers/fdr',\n",
       " '/us/snp500/prices/yfinance',\n",
       " '/us/nasdaq/tickers/fdr',\n",
       " '/us/nasdaq/prices/yfinance',\n",
       " '/us/etfs/tickers/etfdb',\n",
       " '/us/etfs/prices/yfinance',\n",
       " '/stooq/us/nysemkt/stocks/prices',\n",
       " '/stooq/us/nysemkt/stocks/tickers',\n",
       " '/stooq/us/nyse/stocks/prices',\n",
       " '/stooq/us/nyse/stocks/tickers',\n",
       " '/stooq/us/nyse/etfs/prices',\n",
       " '/stooq/us/nyse/etfs/tickers',\n",
       " '/stooq/us/nasdaq/stocks/prices',\n",
       " '/stooq/us/nasdaq/stocks/tickers',\n",
       " '/stooq/us/nasdaq/etfs/prices',\n",
       " '/stooq/us/nasdaq/etfs/tickers',\n",
       " '/stooq/jp/tse/stocks/prices',\n",
       " '/stooq/jp/tse/stocks/tickers',\n",
       " '/sp500/fred',\n",
       " '/sp500/stocks',\n",
       " '/sp500/stooq',\n",
       " '/quandl/wiki/prices',\n",
       " '/quandl/wiki/stocks',\n",
       " '/kr/etf/tickers/fdr',\n",
       " '/kr/etf/prices/fdr',\n",
       " '/fred/assets']"
      ]
     },
     "execution_count": 19,
     "metadata": {},
     "output_type": "execute_result"
    }
   ],
   "source": [
    "with pd.HDFStore(DATA_STORE, mode='r') as store:\n",
    "    all_keys = store.keys()       \n",
    "all_keys"
   ]
  },
  {
   "cell_type": "markdown",
   "id": "16bc6754-ad4f-40e9-9d57-4700274ce8a1",
   "metadata": {},
   "source": [
    "### data to zipline bundle"
   ]
  },
  {
   "cell_type": "code",
   "execution_count": 20,
   "id": "be97bd8e-81fa-46b4-a1a8-70d50c1cc254",
   "metadata": {},
   "outputs": [],
   "source": [
    "price_keys = [key for key in all_keys if 'prices' in key and'etfs' in key and 'yfinance' in key]    "
   ]
  },
  {
   "cell_type": "code",
   "execution_count": 21,
   "id": "ae6084d1-2731-4f16-b0f6-d64b1c145792",
   "metadata": {},
   "outputs": [
    {
     "data": {
      "text/plain": [
       "['/us/etfs/prices/yfinance']"
      ]
     },
     "execution_count": 21,
     "metadata": {},
     "output_type": "execute_result"
    }
   ],
   "source": [
    "price_keys"
   ]
  },
  {
   "cell_type": "code",
   "execution_count": 26,
   "id": "fa2b6805-b17d-44e0-a6fb-766b7be3ba24",
   "metadata": {},
   "outputs": [],
   "source": [
    "def clear_directory(directory):\n",
    "    \"\"\"디렉토리와 그 안의 모든 파일 및 서브디렉토리를 삭제합니다.\"\"\"\n",
    "    directory = Path(directory)\n",
    "    if directory.exists() and directory.is_dir():\n",
    "        shutil.rmtree(directory)  # 디렉토리와 그 안의 모든 파일/서브디렉토리 삭제\n",
    "    directory.mkdir(parents=True, exist_ok=True)  # 디렉토리 다시 생성\n",
    "\n",
    "\n",
    "def process_and_save_chunk(data_store, key, start, stop, output_folder):\n",
    "\n",
    "    \n",
    "    with pd.HDFStore(data_store, mode='r') as store:\n",
    "        chunk = store.select(key, start=start, stop=stop)\n",
    "        \n",
    "        for ticker in chunk.index.get_level_values('ticker').unique():\n",
    "            df_price = chunk.xs(ticker, level='ticker')\n",
    "            output_file = output_folder / f'{ticker}.csv'\n",
    "            \n",
    "            if start == 0 and output_file.exists():\n",
    "                # 첫 번째 청크인 경우 기존 파일 삭제\n",
    "                output_file.unlink()\n",
    "            \n",
    "            # CSV 파일에 다중 인덱스를 유지한 채로 저장\n",
    "            df_price.to_csv(output_file, mode='a', header=not output_file.exists())\n"
   ]
  },
  {
   "cell_type": "code",
   "execution_count": 27,
   "id": "76c09fa6-32ea-4ef9-bc3f-3785228e3d67",
   "metadata": {},
   "outputs": [],
   "source": [
    "chunk_size = 100000  # 조절 가능한 청크 크기\n",
    "for price_key in price_keys:\n",
    "    key_splited = price_key.split('/')\n",
    "    output_folder = f\"{key_splited[1]}_{key_splited[2]}\"\n",
    "    output_folder = Path(\"zipline_bundle\") / output_folder\n",
    "    output_folder = Path(output_folder)\n",
    "    clear_directory(output_folder)\n",
    "\n",
    "    with pd.HDFStore(DATA_STORE, mode='r') as store:\n",
    "        total_rows = store.get_storer(price_key).nrows\n",
    "\n",
    "    for start in range(0, total_rows, chunk_size):\n",
    "        stop = min(start + chunk_size, total_rows)\n",
    "        process_and_save_chunk(DATA_STORE, price_key, start, stop, output_folder)\n",
    "        gc.collect()  # 가비지 컬렉션 호출"
   ]
  },
  {
   "cell_type": "markdown",
   "id": "6896d8ab-0233-4e50-b654-40627a7f6d5e",
   "metadata": {},
   "source": [
    "---"
   ]
  }
 ],
 "metadata": {
  "kernelspec": {
   "display_name": "Python 3 (ipykernel)",
   "language": "python",
   "name": "python3"
  },
  "language_info": {
   "codemirror_mode": {
    "name": "ipython",
    "version": 3
   },
   "file_extension": ".py",
   "mimetype": "text/x-python",
   "name": "python",
   "nbconvert_exporter": "python",
   "pygments_lexer": "ipython3",
   "version": "3.10.12"
  }
 },
 "nbformat": 4,
 "nbformat_minor": 5
}
