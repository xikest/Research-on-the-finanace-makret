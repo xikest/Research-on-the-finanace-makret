{
  "cells": [
    {
      "cell_type": "markdown",
      "id": "4a92942e-6fa2-4174-a5bc-f605acbadf5e",
      "metadata": {
        "id": "4a92942e-6fa2-4174-a5bc-f605acbadf5e"
      },
      "source": [
        "## 패키지 설치"
      ]
    },
    {
      "cell_type": "code",
      "execution_count": 7,
      "id": "3ceaf892-0c20-4776-a2a2-c70950b42a62",
      "metadata": {
        "id": "3ceaf892-0c20-4776-a2a2-c70950b42a62"
      },
      "outputs": [],
      "source": [
        "!pip install -U financedatabase\n",
        "!pip install -U yahoofinancials"
      ]
    },
    {
      "cell_type": "markdown",
      "id": "e021f97b-3ff2-4bd2-909f-7c6fd0e1f06b",
      "metadata": {
        "id": "e021f97b-3ff2-4bd2-909f-7c6fd0e1f06b"
      },
      "source": [
        "## env 설정"
      ]
    },
    {
      "cell_type": "code",
      "execution_count": 2,
      "id": "8d37e1af-c391-43ef-8298-9a7e2a49d01f",
      "metadata": {
        "id": "8d37e1af-c391-43ef-8298-9a7e2a49d01f"
      },
      "outputs": [],
      "source": [
        "import financedatabase as fd\n",
        "from yahoofinancials import YahooFinancials\n",
        "from datetime import datetime, timedelta\n",
        "import pandas as pd\n",
        "from tqdm import tqdm\n",
        "import os"
      ]
    },
    {
      "cell_type": "markdown",
      "id": "b2f59e66-0a32-485a-ad7e-00aa24c91772",
      "metadata": {
        "id": "b2f59e66-0a32-485a-ad7e-00aa24c91772"
      },
      "source": [
        "## ETF 리스트 추출 wtih fd"
      ]
    },
    {
      "cell_type": "code",
      "execution_count": 3,
      "id": "43538713-42af-476b-8c65-a51497c7d5d6",
      "metadata": {
        "id": "43538713-42af-476b-8c65-a51497c7d5d6"
      },
      "outputs": [],
      "source": [
        "etfs = fd.ETFs()\n",
        "symbols = list(etfs.select().index)"
      ]
    },
    {
      "cell_type": "markdown",
      "id": "fbc82b0e-96aa-4799-baed-82d39d68d7f9",
      "metadata": {
        "id": "fbc82b0e-96aa-4799-baed-82d39d68d7f9"
      },
      "source": [
        "## ETF 데이터베이스 확인 (Yahoo)"
      ]
    },
    {
      "cell_type": "code",
      "execution_count": 15,
      "id": "58739b04-368a-4128-91be-ae9112d226b8",
      "metadata": {
        "id": "58739b04-368a-4128-91be-ae9112d226b8"
      },
      "outputs": [],
      "source": [
        "today_date = datetime.today().strftime('%Y-%m-%d')\n",
        "start_date = (datetime.today() - timedelta(days=365 * 20)).strftime('%Y-%m-%d')\n",
        "print(f'{start_date}-{today_date}')"
      ]
    },
    {
      "cell_type": "code",
      "source": [
        "folder_name = 'data'\n",
        "folder_path = os.path.join(os.getcwd(), folder_name)\n",
        "if not os.path.exists(folder_path):\n",
        "    os.mkdir(folder_path)"
      ],
      "metadata": {
        "id": "LkcfyZ6oxLK9"
      },
      "id": "LkcfyZ6oxLK9",
      "execution_count": 17,
      "outputs": []
    },
    {
      "cell_type": "code",
      "source": [
        "error_symbol = []\n",
        "\n",
        "for symbol in tqdm(symbols):\n",
        "  try:\n",
        "    yahoo_financials = YahooFinancials(symbol)\n",
        "    prices = yahoo_financials.get_historical_price_data(start_date, today_date, 'daily')\n",
        "    prices = pd.DataFrame(prices.get(symbol).get('prices')).drop(['date'],axis=1)\n",
        "    prices = prices.rename(columns={'high':'High', 'low':'Low', 'open':'Open', 'close':'Close', 'volume':'Volume', 'adjclose':'Adj Close','formatted_date':'Date'})\n",
        "    prices = prices[['Date',\t'Open',\t'High',\t'Low',\t'Close',\t'Adj Close',\t'Volume']]\n",
        "    prices.to_csv(f\"./{folder_name}/{symbol}.csv\")\n",
        "  except:\n",
        "    error_symbol.append(symbol)\n",
        "\n",
        "#save error symbols\n",
        "df_err = pd.DataFrame({\"Symbol\": error_symbol})\n",
        "csv_file_path = \"error_symbols.csv\"\n",
        "df_err.to_csv(csv_file_path, index=False)"
      ],
      "metadata": {
        "colab": {
          "base_uri": "https://localhost:8080/"
        },
        "id": "azbUQVzpuy_k",
        "outputId": "a643a3bf-f021-4049-859e-ef579d5266a4"
      },
      "id": "azbUQVzpuy_k",
      "execution_count": null,
      "outputs": [
        {
          "output_type": "stream",
          "name": "stderr",
          "text": [
            "  2%|▏         | 54/2860 [02:58<2:12:57,  2.84s/it]"
          ]
        }
      ]
    },
    {
      "cell_type": "markdown",
      "source": [
        "## Save ETF data"
      ],
      "metadata": {
        "id": "TDmUnrEKzv-z"
      },
      "id": "TDmUnrEKzv-z"
    },
    {
      "cell_type": "code",
      "source": [
        "from google.colab import files\n",
        "!zip -r /content/data.zip /content/data\n",
        "files.download('/content/data.zip')\n",
        "files.download('/content/error_symbols.csv')"
      ],
      "metadata": {
        "id": "yWfnjO-hzhiB"
      },
      "id": "yWfnjO-hzhiB",
      "execution_count": null,
      "outputs": []
    },
    {
      "cell_type": "markdown",
      "id": "3d2fb738-d6af-4865-8abd-51f396e6d91a",
      "metadata": {
        "id": "3d2fb738-d6af-4865-8abd-51f396e6d91a"
      },
      "source": [
        "---"
      ]
    }
  ],
  "metadata": {
    "kernelspec": {
      "display_name": "Python 3 (ipykernel)",
      "language": "python",
      "name": "python3"
    },
    "language_info": {
      "codemirror_mode": {
        "name": "ipython",
        "version": 3
      },
      "file_extension": ".py",
      "mimetype": "text/x-python",
      "name": "python",
      "nbconvert_exporter": "python",
      "pygments_lexer": "ipython3",
      "version": "3.10.12"
    },
    "colab": {
      "provenance": []
    }
  },
  "nbformat": 4,
  "nbformat_minor": 5
}