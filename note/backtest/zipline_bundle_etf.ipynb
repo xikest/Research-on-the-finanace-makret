{
 "cells": [
  {
   "cell_type": "markdown",
   "id": "4a92942e-6fa2-4174-a5bc-f605acbadf5e",
   "metadata": {
    "id": "4a92942e-6fa2-4174-a5bc-f605acbadf5e"
   },
   "source": [
    "## 패키지 설치"
   ]
  },
  {
   "cell_type": "code",
   "execution_count": 7,
   "id": "3ceaf892-0c20-4776-a2a2-c70950b42a62",
   "metadata": {
    "id": "3ceaf892-0c20-4776-a2a2-c70950b42a62"
   },
   "outputs": [],
   "source": [
    "!pip install -U financedatabase\n",
    "!pip install -U yahoofinancials\n",
    "!pip install -U zipline-reloaded"
   ]
  },
  {
   "cell_type": "markdown",
   "id": "e021f97b-3ff2-4bd2-909f-7c6fd0e1f06b",
   "metadata": {
    "id": "e021f97b-3ff2-4bd2-909f-7c6fd0e1f06b"
   },
   "source": [
    "## env 설정"
   ]
  },
  {
   "cell_type": "code",
   "execution_count": 7,
   "id": "8d37e1af-c391-43ef-8298-9a7e2a49d01f",
   "metadata": {
    "id": "8d37e1af-c391-43ef-8298-9a7e2a49d01f"
   },
   "outputs": [],
   "source": [
    "import financedatabase as fd\n",
    "from yahoofinancials import YahooFinancials\n",
    "from datetime import datetime, timedelta\n",
    "from zipline.utils.calendar_utils import get_calendar\n",
    "import pandas as pd\n",
    "from tqdm import tqdm\n",
    "import os"
   ]
  },
  {
   "cell_type": "markdown",
   "id": "b2f59e66-0a32-485a-ad7e-00aa24c91772",
   "metadata": {
    "id": "b2f59e66-0a32-485a-ad7e-00aa24c91772"
   },
   "source": [
    "## ETF 리스트 추출 wtih fd"
   ]
  },
  {
   "cell_type": "code",
   "execution_count": 2,
   "id": "43538713-42af-476b-8c65-a51497c7d5d6",
   "metadata": {
    "id": "43538713-42af-476b-8c65-a51497c7d5d6"
   },
   "outputs": [],
   "source": [
    "etfs = fd.ETFs()\n",
    "symbols = list(etfs.select().index)"
   ]
  },
  {
   "cell_type": "markdown",
   "id": "fbc82b0e-96aa-4799-baed-82d39d68d7f9",
   "metadata": {
    "id": "fbc82b0e-96aa-4799-baed-82d39d68d7f9"
   },
   "source": [
    "## ETF 데이터베이스 확인 (Yahoo)"
   ]
  },
  {
   "cell_type": "code",
   "execution_count": 8,
   "id": "58739b04-368a-4128-91be-ae9112d226b8",
   "metadata": {
    "id": "58739b04-368a-4128-91be-ae9112d226b8"
   },
   "outputs": [
    {
     "name": "stdout",
     "output_type": "stream",
     "text": [
      "2004-01-02-2023-12-27\n"
     ]
    }
   ],
   "source": [
    "end_date = (datetime.today() - timedelta(days=1)).strftime('%Y-%m-%d')\n",
    "start_date = (datetime.today() - timedelta(days=365 * 20)).strftime('%Y-%m-%d')\n",
    "print(f'{start_date}-{end_date}')\n",
    "trading_calendar = get_calendar(\"XNYS\")\n",
    "trading_days = trading_calendar.sessions_in_range(pd.Timestamp(start_date), pd.Timestamp(end_date))\n",
    "# print(trading_days)"
   ]
  },
  {
   "cell_type": "code",
   "execution_count": 9,
   "id": "LkcfyZ6oxLK9",
   "metadata": {
    "id": "LkcfyZ6oxLK9"
   },
   "outputs": [],
   "source": [
    "folder_name = 'data'\n",
    "folder_path = os.path.join(os.getcwd(), folder_name)\n",
    "if not os.path.exists(folder_path):\n",
    "    os.mkdir(folder_path)"
   ]
  },
  {
   "cell_type": "code",
   "execution_count": 21,
   "id": "azbUQVzpuy_k",
   "metadata": {
    "colab": {
     "base_uri": "https://localhost:8080/"
    },
    "id": "azbUQVzpuy_k",
    "outputId": "a643a3bf-f021-4049-859e-ef579d5266a4"
   },
   "outputs": [
    {
     "name": "stderr",
     "output_type": "stream",
     "text": [
      "100%|████████████████████████████████████████████████████████████████████████████████████████████████████████████████████████████████████| 4/4 [00:00<00:00,  7.67it/s]\n"
     ]
    }
   ],
   "source": [
    "error_symbol = []\n",
    "\n",
    "for symbol in tqdm(symbols):\n",
    "  try:\n",
    "    yahoo_financials = YahooFinancials(symbol)\n",
    "    prices = yahoo_financials.get_historical_price_data(start_date, end_date, 'daily')\n",
    "    prices = pd.DataFrame(prices.get(symbol).get('prices')).drop(['date'],axis=1)\n",
    "    prices = prices.rename(columns={'high':'High', 'low':'Low', 'open':'Open', 'close':'Close', 'volume':'Volume', 'adjclose':'Adj Close','formatted_date':'Date'})\n",
    "    prices = prices[['Date','Open','High','Low','Close','Adj Close','Volume']]\n",
    "    prices = prices.set_index(\"Date\")\n",
    "    prices.index = pd.to_datetime(prices.index)\n",
    "      \n",
    "    df = pd.DataFrame(index=trading_days, columns=prices.columns)\n",
    "    df.index.name = 'Date'\n",
    "    df.update(prices)\n",
    "    df = df.ffill().reset_index().dropna()\n",
    "    df.to_csv(f\"./{folder_name}/{symbol}.csv\", index=False)\n",
    "  except Exception as e:\n",
    "    # print(e)\n",
    "    error_symbol.append(symbol)\n",
    "\n",
    "#save error symbols\n",
    "df_err = pd.DataFrame({\"Symbol\": error_symbol})\n",
    "csv_file_path = \"error_symbols.csv\"\n",
    "df_err.to_csv(csv_file_path, index=False)"
   ]
  },
  {
   "cell_type": "markdown",
   "id": "TDmUnrEKzv-z",
   "metadata": {
    "id": "TDmUnrEKzv-z"
   },
   "source": [
    "## Save ETF data"
   ]
  },
  {
   "cell_type": "code",
   "execution_count": null,
   "id": "yWfnjO-hzhiB",
   "metadata": {
    "id": "yWfnjO-hzhiB"
   },
   "outputs": [],
   "source": [
    "from google.colab import files\n",
    "!zip -r /content/data.zip /content/data\n",
    "files.download('/content/data.zip')\n",
    "files.download('/content/error_symbols.csv')"
   ]
  },
  {
   "cell_type": "markdown",
   "id": "3d2fb738-d6af-4865-8abd-51f396e6d91a",
   "metadata": {
    "id": "3d2fb738-d6af-4865-8abd-51f396e6d91a"
   },
   "source": [
    "---"
   ]
  }
 ],
 "metadata": {
  "colab": {
   "provenance": []
  },
  "kernelspec": {
   "display_name": "Python 3 (ipykernel)",
   "language": "python",
   "name": "python3"
  },
  "language_info": {
   "codemirror_mode": {
    "name": "ipython",
    "version": 3
   },
   "file_extension": ".py",
   "mimetype": "text/x-python",
   "name": "python",
   "nbconvert_exporter": "python",
   "pygments_lexer": "ipython3",
   "version": "3.10.12"
  }
 },
 "nbformat": 4,
 "nbformat_minor": 5
}
