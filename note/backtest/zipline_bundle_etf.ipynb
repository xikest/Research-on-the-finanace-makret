{
 "cells": [
  {
   "cell_type": "markdown",
   "id": "4a92942e-6fa2-4174-a5bc-f605acbadf5e",
   "metadata": {
    "id": "4a92942e-6fa2-4174-a5bc-f605acbadf5e"
   },
   "source": [
    "## 패키지 설치"
   ]
  },
  {
   "cell_type": "code",
   "execution_count": 7,
   "id": "3ceaf892-0c20-4776-a2a2-c70950b42a62",
   "metadata": {
    "id": "3ceaf892-0c20-4776-a2a2-c70950b42a62"
   },
   "outputs": [],
   "source": [
    "!pip install -U financedatabase\n",
    "!pip install -U yahoofinancials\n",
    "\n",
    "!wget http://prdownloads.sourceforge.net/ta-lib/ta-lib-0.4.0-src.tar.gz\n",
    "!tar -xzvf ta-lib-0.4.0-src.tar.gz\n",
    "%cd ta-lib\n",
    "!./configure --prefix=/usr\n",
    "!make\n",
    "!make install\n",
    "!pip install Ta-Lib\n",
    "%cd ..\n",
    "\n",
    "!pip install -U zipline-reloaded"
   ]
  },
  {
   "cell_type": "markdown",
   "id": "e021f97b-3ff2-4bd2-909f-7c6fd0e1f06b",
   "metadata": {
    "id": "e021f97b-3ff2-4bd2-909f-7c6fd0e1f06b"
   },
   "source": [
    "## env 설정"
   ]
  },
  {
   "cell_type": "code",
   "execution_count": 2,
   "id": "8d37e1af-c391-43ef-8298-9a7e2a49d01f",
   "metadata": {
    "id": "8d37e1af-c391-43ef-8298-9a7e2a49d01f"
   },
   "outputs": [],
   "source": [
    "import financedatabase as fd\n",
    "from yahoofinancials import YahooFinancials\n",
    "from datetime import datetime, timedelta\n",
    "from zipline.utils.calendar_utils import get_calendar\n",
    "import pandas as pd\n",
    "from tqdm import tqdm\n",
    "import os"
   ]
  },
  {
   "cell_type": "code",
   "execution_count": 12,
   "id": "70af6de5-2726-41d5-b9ec-2993141b9477",
   "metadata": {},
   "outputs": [],
   "source": [
    "class PriceDownloader:\n",
    "    def __init__(self):\n",
    "        pass\n",
    "\n",
    "\n",
    "    def _create_folder(self, folder_name):\n",
    "        folder_path = os.path.join(os.getcwd(), folder_name)\n",
    "        if not os.path.exists(folder_path):\n",
    "            os.mkdir(folder_path)\n",
    "        return folder_path\n",
    "\n",
    "\n",
    "    def _get_trading_days(self, start_date=None, end_date=None):\n",
    "        if start_date is None:\n",
    "            start_date = (datetime.today() - timedelta(days=365 * 20)).strftime('%Y-%m-%d')\n",
    "        if end_date is None:\n",
    "            end_date = (datetime.today() - timedelta(days=1)).strftime('%Y-%m-%d')\n",
    "\n",
    "        trading_calendar = get_calendar(\"XNYS\")  # (\"NYSE\"도 사용 가능)\n",
    "        trading_days = trading_calendar.sessions_in_range(pd.Timestamp(start_date), pd.Timestamp(end_date))\n",
    "\n",
    "        return trading_days\n",
    "\n",
    "    def download_bundle_prices(self, symbols, start_date=None, end_date=None, folder_name='data', save_error=True):\n",
    "        error_symbols = []\n",
    "        self._create_folder(folder_name)\n",
    "        trading_days = self._get_trading_days(start_date=start_date, end_date=end_date)\n",
    "        start_date = trading_days[0].strftime('%Y-%m-%d')\n",
    "        end_date = trading_days[-1].strftime('%Y-%m-%d')\n",
    "\n",
    "        for symbol in tqdm(symbols, desc='Downloading data'):\n",
    "            try:\n",
    "                yahoo_financials = YahooFinancials(symbol)\n",
    "                prices = yahoo_financials.get_historical_price_data(start_date, end_date, 'daily')\n",
    "                prices = pd.DataFrame(prices.get(symbol).get('prices')).drop(['date'], axis=1)\n",
    "                prices = prices.rename(columns={'high': 'High', 'low': 'Low', 'open': 'Open', 'close': 'Close',\n",
    "                                                'volume': 'Volume', 'adjclose': 'Adj Close', 'formatted_date': 'Date'})\n",
    "                prices = prices[['Date', 'Open', 'High', 'Low', 'Close', 'Adj Close', 'Volume']]\n",
    "                prices = prices.set_index(\"Date\")\n",
    "                prices.index = pd.to_datetime(prices.index)\n",
    "\n",
    "                df = pd.DataFrame(index=trading_days, columns=prices.columns)\n",
    "                df.index.name = 'Date'\n",
    "                df.update(prices)\n",
    "                df = df.ffill().reset_index().dropna()\n",
    "\n",
    "                # Save the data to a CSV file\n",
    "                csv_file_path = os.path.join(folder_name, f\"{symbol}.csv\")\n",
    "                df.to_csv(csv_file_path, index=False)\n",
    "\n",
    "            except Exception as e:\n",
    "                # print(f\"{symbol} | {e}\")\n",
    "                error_symbols.append(symbol)\n",
    "        if save_error:\n",
    "            # Save error symbols to a CSV file\n",
    "            df_err = pd.DataFrame({\"Symbol\": error_symbols})\n",
    "            csv_file_path = os.path.join(folder_name, \"0_error_symbols.csv\")\n",
    "            df_err.to_csv(csv_file_path, index=False)"
   ]
  },
  {
   "cell_type": "markdown",
   "id": "fbc82b0e-96aa-4799-baed-82d39d68d7f9",
   "metadata": {
    "id": "fbc82b0e-96aa-4799-baed-82d39d68d7f9"
   },
   "source": [
    "## bundle 데이터 받기 (Yahoo)"
   ]
  },
  {
   "cell_type": "code",
   "execution_count": 13,
   "id": "e1167c5b-a618-4372-9fdc-9ec5466b6f91",
   "metadata": {},
   "outputs": [],
   "source": [
    "pdn = PriceDownloader()"
   ]
  },
  {
   "cell_type": "markdown",
   "id": "ecc00778-3cc1-4980-ba18-7eb5b570ea33",
   "metadata": {},
   "source": [
    "### US equities data"
   ]
  },
  {
   "cell_type": "code",
   "execution_count": 1,
   "id": "da38e259-eace-45b8-a6f8-8de899d4c65d",
   "metadata": {},
   "outputs": [],
   "source": [
    "equities = fd.Equities() \n",
    "equity_symbols = equities.select(country='United States').index # symbol list \n",
    "pdn.download_bundle_prices(equity_symbols, folder_name='equity_data')"
   ]
  },
  {
   "cell_type": "markdown",
   "id": "1dcc7be4-b9ed-4792-ba95-20e846883971",
   "metadata": {},
   "source": [
    "#### Save ETF data"
   ]
  },
  {
   "cell_type": "code",
   "execution_count": null,
   "id": "c8ed25dd-59aa-4355-8fad-adbeb876d585",
   "metadata": {},
   "outputs": [],
   "source": [
    "from google.colab import files\n",
    "!zip -r /content/equity_data.zip /content/equity_data\n",
    "files.download('/content/equity_data.zip')"
   ]
  },
  {
   "cell_type": "markdown",
   "id": "d3ed2ab8-7f38-46a6-9806-e3279502d863",
   "metadata": {},
   "source": [
    "### US ETF data"
   ]
  },
  {
   "cell_type": "code",
   "execution_count": null,
   "id": "93abc661-228e-4c12-8393-e71a4be6564a",
   "metadata": {},
   "outputs": [],
   "source": [
    "etfs = fd.ETFs()\n",
    "etf_symbols = list(etfs.select().index) # symbol list \n",
    "pdn.download_bundle_prices(equity_symbols, folder_name='etf_data')"
   ]
  },
  {
   "cell_type": "markdown",
   "id": "7d14afbc-a50e-44db-a524-b4c7e33078ea",
   "metadata": {},
   "source": [
    "#### Save ETF data"
   ]
  },
  {
   "cell_type": "code",
   "execution_count": null,
   "id": "9f37cd4a-4943-4147-97cd-988c835ca06d",
   "metadata": {},
   "outputs": [],
   "source": [
    "from google.colab import files\n",
    "!zip -r /content/etf_data.zip /content/etf_data\n",
    "files.download('/content/etf_data.zip')"
   ]
  },
  {
   "cell_type": "markdown",
   "id": "3d2fb738-d6af-4865-8abd-51f396e6d91a",
   "metadata": {
    "id": "3d2fb738-d6af-4865-8abd-51f396e6d91a"
   },
   "source": [
    "---"
   ]
  }
 ],
 "metadata": {
  "colab": {
   "provenance": []
  },
  "kernelspec": {
   "display_name": "Python 3 (ipykernel)",
   "language": "python",
   "name": "python3"
  },
  "language_info": {
   "codemirror_mode": {
    "name": "ipython",
    "version": 3
   },
   "file_extension": ".py",
   "mimetype": "text/x-python",
   "name": "python",
   "nbconvert_exporter": "python",
   "pygments_lexer": "ipython3",
   "version": "3.10.12"
  }
 },
 "nbformat": 4,
 "nbformat_minor": 5
}
